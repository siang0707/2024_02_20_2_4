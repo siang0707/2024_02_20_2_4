{
 "cells": [
  {
   "cell_type": "code",
   "execution_count": 7,
   "metadata": {},
   "outputs": [
    {
     "name": "stdout",
     "output_type": "stream",
     "text": [
      "學生分數: 85\n",
      "學生等級為: 甲\n"
     ]
    }
   ],
   "source": [
    "# 90(含)~100分為「優」\n",
    "# 80(含)~89分為「甲」\n",
    "# 70(含)~79分為「乙」\n",
    "# 60(含)~69分為「丙」\n",
    "# 0(含)~59分為「丁」\n",
    "\n",
    "try:\n",
    "    score = int(input(\"請輸入學生分數:\"))\n",
    "    if score >= 90:\n",
    "        grade = '優'\n",
    "    elif score >= 80:\n",
    "        grade = '甲'\n",
    "    elif score >= 70:\n",
    "        grade = '乙'\n",
    "    elif score >= 60:\n",
    "        grade = '丙'\n",
    "    else:\n",
    "        grade = '丁'\n",
    "    print(f'學生分數: {score}\\n學生等級為: {grade}')\n",
    "except:\n",
    "    print('格式輸入錯誤')"
   ]
  },
  {
   "cell_type": "code",
   "execution_count": 9,
   "metadata": {},
   "outputs": [
    {
     "name": "stdout",
     "output_type": "stream",
     "text": [
      "不加分\n"
     ]
    }
   ],
   "source": [
    "add = input(\"請問是否加分(y,n):\")\n",
    "if add == 'y':\n",
    "    print(\"加分\")\n",
    "else:\n",
    "    print(\"不加分\")"
   ]
  },
  {
   "cell_type": "code",
   "execution_count": 11,
   "metadata": {},
   "outputs": [
    {
     "name": "stdout",
     "output_type": "stream",
     "text": [
      "不加分\n"
     ]
    }
   ],
   "source": [
    "# not 邏輯運算子示範上方程式段\n",
    "add = input(\"請問是否加分(y,n):\")\n",
    "if not (add == 'y'): #括弧內為布林值\n",
    "    print(\"不加分\")\n",
    "else:\n",
    "    print(\"加分\")"
   ]
  },
  {
   "cell_type": "code",
   "execution_count": 21,
   "metadata": {},
   "outputs": [
    {
     "name": "stdout",
     "output_type": "stream",
     "text": [
      "國文分數: 90, 數學分數: 90\n",
      "獎金: 0\n"
     ]
    }
   ],
   "source": [
    "# chinese 100 同時 math 100 獎金為1000\n",
    "# chinese 100 或者 math 100 獎金為500\n",
    "#其它獎金為0\n",
    "\n",
    "chinese = int(input(\"請輸入國文分數:\"))\n",
    "math = int(input(\"請輸入數學分數:\"))\n",
    "bonus = 0\n",
    "if chinese == 100 and math == 100:\n",
    "    bonus = 1000\n",
    "elif chinese == 100 or math == 100:\n",
    "    bonus = 500\n",
    "print(f'國文分數: {chinese}, 數學分數: {math}\\n獎金: {bonus}')"
   ]
  }
 ],
 "metadata": {
  "kernelspec": {
   "display_name": "Python 3",
   "language": "python",
   "name": "python3"
  },
  "language_info": {
   "codemirror_mode": {
    "name": "ipython",
    "version": 3
   },
   "file_extension": ".py",
   "mimetype": "text/x-python",
   "name": "python",
   "nbconvert_exporter": "python",
   "pygments_lexer": "ipython3",
   "version": "3.10.13"
  }
 },
 "nbformat": 4,
 "nbformat_minor": 2
}
