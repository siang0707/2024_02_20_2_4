{
 "cells": [
  {
   "cell_type": "code",
   "execution_count": 2,
   "metadata": {},
   "outputs": [
    {
     "name": "stdout",
     "output_type": "stream",
     "text": [
      "1 ~ 5的總合是 15\n"
     ]
    }
   ],
   "source": [
    "# LOOP示範\n",
    "# 1 ~ 5的總合\n",
    "total = 0\n",
    "total += 1\n",
    "total += 2\n",
    "total += 3\n",
    "total += 4\n",
    "total += 5\n",
    "\n",
    "print(f'1 ~ 5的總合是 {total}')"
   ]
  },
  {
   "cell_type": "code",
   "execution_count": 4,
   "metadata": {},
   "outputs": [
    {
     "name": "stdout",
     "output_type": "stream",
     "text": [
      "H\n",
      "e\n",
      "l\n",
      "l\n",
      "o\n",
      "!\n"
     ]
    }
   ],
   "source": [
    "# LOOP示範\n",
    "# for....in....版本\n",
    "#字串就是一個Sequence (串列資料)\n",
    "for word in 'Hello!':\n",
    "    print(word)\n"
   ]
  },
  {
   "cell_type": "code",
   "execution_count": 6,
   "metadata": {},
   "outputs": [
    {
     "name": "stdout",
     "output_type": "stream",
     "text": [
      "0\n",
      "1\n",
      "2\n",
      "3\n",
      "4\n",
      "==========\n",
      "1\n",
      "2\n",
      "3\n",
      "4\n",
      "5\n",
      "==========\n",
      "1\n",
      "3\n",
      "5\n",
      "7\n",
      "9\n"
     ]
    }
   ],
   "source": [
    "# LOOP示範\n",
    "# for....in....版本 (range指令介紹)\n",
    "for i in range(5):\n",
    "    print(i)\n",
    "\n",
    "print(\"==========\")\n",
    "\n",
    "for i in range(1,6):\n",
    "    print(i)\n",
    "\n",
    "\n",
    "print(\"==========\")\n",
    "\n",
    "for i in range(1,11,2):\n",
    "    print(i)"
   ]
  },
  {
   "cell_type": "code",
   "execution_count": 8,
   "metadata": {},
   "outputs": [
    {
     "name": "stdout",
     "output_type": "stream",
     "text": [
      "1...100的總合5050\n"
     ]
    }
   ],
   "source": [
    "# LOOP示範\n",
    "# for....in....版本使用range指令\n",
    "total = 0\n",
    "for i in range(1,101):\n",
    "    total += i\n",
    "\n",
    "print(f'1...100的總合{total}')"
   ]
  },
  {
   "cell_type": "code",
   "execution_count": 9,
   "metadata": {},
   "outputs": [
    {
     "name": "stdout",
     "output_type": "stream",
     "text": [
      "1...100的總合為: 5050\n"
     ]
    }
   ],
   "source": [
    "end = int(input('請輸入1加到end的總和, end為:'))\n",
    "total = 0\n",
    "for i in range(1,end+1):\n",
    "    total += i\n",
    "\n",
    "print(f'1...{end}的總合為: {total}')"
   ]
  }
 ],
 "metadata": {
  "kernelspec": {
   "display_name": "Python 3",
   "language": "python",
   "name": "python3"
  },
  "language_info": {
   "codemirror_mode": {
    "name": "ipython",
    "version": 3
   },
   "file_extension": ".py",
   "mimetype": "text/x-python",
   "name": "python",
   "nbconvert_exporter": "python",
   "pygments_lexer": "ipython3",
   "version": "3.10.13"
  }
 },
 "nbformat": 4,
 "nbformat_minor": 2
}
