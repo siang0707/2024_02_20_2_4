{
 "cells": [
  {
   "cell_type": "code",
   "execution_count": null,
   "metadata": {},
   "outputs": [],
   "source": [
    "#輸入\n",
    "#-請輸入整數,求所有正因數:\n",
    "#-要檢查格式\n",
    "#輸出\n",
    "#-10的因數有:\n",
    "#   1,2,5,10"
   ]
  }
 ],
 "metadata": {
  "language_info": {
   "name": "python"
  }
 },
 "nbformat": 4,
 "nbformat_minor": 2
}
