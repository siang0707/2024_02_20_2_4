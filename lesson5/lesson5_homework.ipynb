{
 "cells": [
  {
   "cell_type": "code",
   "execution_count": 33,
   "metadata": {},
   "outputs": [
    {
     "name": "stdout",
     "output_type": "stream",
     "text": [
      "10的因數有:\n",
      "1,2,5,10,"
     ]
    }
   ],
   "source": [
    "#輸入\n",
    "#-請輸入整數,求所有正因數:\n",
    "#-要檢查格式\n",
    "#輸出\n",
    "# 10的因數有:\n",
    "#   1,2,5,10\n",
    "#for...in...版\n",
    "try:\n",
    "    value = int(input('請輸入整數,求該整數的所有因數:'))\n",
    "    print(f'{value}的因數有:')\n",
    "    for i in range(1,value+1):\n",
    "        if value % i == 0 :\n",
    "            print(f'{i},',end='')\n",
    "except:\n",
    "    print('輸入格式錯誤')"
   ]
  },
  {
   "cell_type": "code",
   "execution_count": 3,
   "metadata": {},
   "outputs": [
    {
     "name": "stdout",
     "output_type": "stream",
     "text": [
      "10的因數有:\n",
      "1, 2, 5, 10, "
     ]
    }
   ],
   "source": [
    "#while版\n",
    "try:\n",
    "    value = int(input('請輸入整數,求該整數的所有正因數:'))\n",
    "    print(f'{value}的因數有:')\n",
    "    i = 0\n",
    "    while i <= value:\n",
    "        i += 1\n",
    "        if value % i == 0 :\n",
    "            print(f'{i}',end=', ')\n",
    "except:\n",
    "    print('輸入格式錯誤')"
   ]
  },
  {
   "cell_type": "code",
   "execution_count": 35,
   "metadata": {},
   "outputs": [
    {
     "name": "stdout",
     "output_type": "stream",
     "text": [
      "10 的因數有:\n",
      "1, 2, 5, 10\n"
     ]
    }
   ],
   "source": [
    "#宗源學友高階版\n",
    "voodoo = True\n",
    "\n",
    "time = 0\n",
    "\n",
    "while voodoo and time < 3:\n",
    "    \n",
    "    numStr = input('請輸入一個正整數(不含0, 輸入負數則取絕對值, 輸入錯誤3次則結束)')\n",
    "\n",
    "    try:\n",
    "        num = int(numStr)\n",
    "\n",
    "        #若是0 則故意出錯\n",
    "        if num == 0:\n",
    "            err = eval()\n",
    "\n",
    "        if num < 0:\n",
    "            num = -num\n",
    "    except:\n",
    "        print('格式錯誤')\n",
    "        time += 1\n",
    "    else:\n",
    "        voodoo = False\n",
    "        \n",
    "if time < 3:\n",
    "\n",
    "    num2 = num // 2\n",
    "\n",
    "    print(f'{num} 的因數有:')\n",
    "\n",
    "    for i in range(1, num2 + 1):\n",
    "        if num % i == 0:\n",
    "            print(i, end = ', ')\n",
    "\n",
    "    print(num)"
   ]
  }
 ],
 "metadata": {
  "kernelspec": {
   "display_name": "Python 3",
   "language": "python",
   "name": "python3"
  },
  "language_info": {
   "codemirror_mode": {
    "name": "ipython",
    "version": 3
   },
   "file_extension": ".py",
   "mimetype": "text/x-python",
   "name": "python",
   "nbconvert_exporter": "python",
   "pygments_lexer": "ipython3",
   "version": "3.10.13"
  }
 },
 "nbformat": 4,
 "nbformat_minor": 2
}
