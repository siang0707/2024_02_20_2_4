{
 "cells": [
  {
   "cell_type": "code",
   "execution_count": 1,
   "metadata": {},
   "outputs": [
    {
     "name": "stdout",
     "output_type": "stream",
     "text": [
      "身高:170cm, 體重:69公斤\n",
      "您的BMI是23.88\n",
      "您的體重:健康正常範圍\n"
     ]
    }
   ],
   "source": [
    "#簡化判別條件\n",
    "try:\n",
    "    height=eval(input('請輸入身高(公分):'))\n",
    "    weight=eval(input('請輸入體重(公斤):'))\n",
    "    bmi=weight/(height/100)**2\n",
    "    print(f'身高:{height}cm, 體重:{weight}公斤\\n您的BMI是{bmi:.2f}')\n",
    "    if bmi < 18.5:\n",
    "        print('您的體重:過輕')\n",
    "    elif bmi <24:\n",
    "        print('您的體重:健康正常範圍')\n",
    "    elif bmi <27:\n",
    "        print('您的體重:過重')\n",
    "    elif bmi <30:\n",
    "        print('您的體重:輕度肥胖')\n",
    "    elif bmi <35:\n",
    "        print('您的體重:中度肥胖')\n",
    "    else:\n",
    "        print('您的體重:重度肥胖')\n",
    "except:\n",
    "    print('輸入格式有誤')"
   ]
  },
  {
   "cell_type": "code",
   "execution_count": 2,
   "metadata": {},
   "outputs": [
    {
     "name": "stdout",
     "output_type": "stream",
     "text": [
      "身高:170cm, 體重:75公斤\n",
      "您的BMI是 25.95\n",
      "您的體重: 過重\n"
     ]
    }
   ],
   "source": [
    "#條件簡化升級版(second version)\n",
    "try:\n",
    "    height=eval(input('請輸入身高(公分):'))\n",
    "    try:\n",
    "        weight=eval(input('請輸入體重(公斤):'))\n",
    "        bmi=weight/(height/100)**2\n",
    "        print(f'身高:{height}cm, 體重:{weight}公斤\\n您的BMI是 {bmi:.2f}')\n",
    "        if bmi < 18.5:\n",
    "            msg = '過輕'\n",
    "        elif bmi <24:\n",
    "            msg = '健康正常範圍'\n",
    "        elif bmi <27:\n",
    "            msg = '過重'\n",
    "        elif bmi <30:\n",
    "            msg = '輕度肥胖'\n",
    "        elif bmi <35:\n",
    "            msg = '中度肥胖'\n",
    "        else:\n",
    "            msg = '重度肥胖'\n",
    "        print(f'您的體重: {msg}')\n",
    "    except Exception as e:\n",
    "        print('體重格式輸入錯誤')\n",
    "        print(e)\n",
    "except Exception as e:\n",
    "    print('身高格式輸入有誤')\n",
    "    print(e)"
   ]
  },
  {
   "cell_type": "code",
   "execution_count": 4,
   "metadata": {},
   "outputs": [
    {
     "name": "stdout",
     "output_type": "stream",
     "text": [
      "身高:170cm, 體重:80公斤\n",
      "您的BMI是 27.68\n",
      "您的體重: 輕度肥胖\n"
     ]
    }
   ],
   "source": [
    "#條件簡化反向升級版\n",
    "try:\n",
    "    height=eval(input('請輸入身高(公分):'))\n",
    "    try:\n",
    "        weight=eval(input('請輸入體重(公斤):'))\n",
    "        bmi=weight/(height/100)**2\n",
    "        print(f'身高:{height}cm, 體重:{weight}公斤\\n您的BMI是 {bmi:.2f}')\n",
    "        if bmi >=35:\n",
    "            msg = '重度肥胖'\n",
    "        elif bmi >=30:\n",
    "            msg = '中度肥胖'\n",
    "        elif bmi >=27:\n",
    "            msg = '輕度肥胖'\n",
    "        elif bmi >=24:\n",
    "            msg = '過重'\n",
    "        elif bmi >=18.5:\n",
    "            msg = '正常範圍'\n",
    "        else:\n",
    "            msg = '過輕'\n",
    "        print(f'您的體重: {msg}')\n",
    "    except Exception as e:\n",
    "        print('體重格式輸入錯誤')\n",
    "        print(e)\n",
    "except Exception as e:\n",
    "    print('身高格式輸入有誤')\n",
    "    print(e)"
   ]
  }
 ],
 "metadata": {
  "kernelspec": {
   "display_name": "Python 3",
   "language": "python",
   "name": "python3"
  },
  "language_info": {
   "codemirror_mode": {
    "name": "ipython",
    "version": 3
   },
   "file_extension": ".py",
   "mimetype": "text/x-python",
   "name": "python",
   "nbconvert_exporter": "python",
   "pygments_lexer": "ipython3",
   "version": "3.10.13"
  }
 },
 "nbformat": 4,
 "nbformat_minor": 2
}
