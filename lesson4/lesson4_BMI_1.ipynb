{
 "cells": [
  {
   "cell_type": "code",
   "execution_count": 31,
   "metadata": {},
   "outputs": [
    {
     "name": "stdout",
     "output_type": "stream",
     "text": [
      "身高:170cm, 體重:85公斤\n",
      "您的BMI是29.41\n",
      "您的體重:輕度肥胖\n"
     ]
    }
   ],
   "source": [
    "try:\n",
    "    height=eval(input('請輸入身高(公分):'))\n",
    "    weight=eval(input('請輸入體重(公斤):'))\n",
    "    bmi=weight/(height/100)**2\n",
    "    print(f'身高:{height}cm, 體重:{weight}公斤\\n您的BMI是{bmi:.2f}')\n",
    "    if bmi < 18.5:\n",
    "        print('您的體重:過輕')\n",
    "    elif bmi >=18.5 and bmi <24:\n",
    "        print('您的體重:健康正常範圍')\n",
    "    elif bmi >=24 and bmi <27:\n",
    "        print('您的體重:過重')\n",
    "    elif bmi >=27 and bmi <30:\n",
    "        print('您的體重:輕度肥胖')\n",
    "    elif bmi >=30 and bmi <35:\n",
    "        print('您的體重:中度肥胖')\n",
    "    else:\n",
    "        print('您的體重:重度肥胖')\n",
    "except:\n",
    "    print('輸入格式有誤')"
   ]
  }
 ],
 "metadata": {
  "kernelspec": {
   "display_name": "Python 3",
   "language": "python",
   "name": "python3"
  },
  "language_info": {
   "codemirror_mode": {
    "name": "ipython",
    "version": 3
   },
   "file_extension": ".py",
   "mimetype": "text/x-python",
   "name": "python",
   "nbconvert_exporter": "python",
   "pygments_lexer": "ipython3",
   "version": "3.10.13"
  }
 },
 "nbformat": 4,
 "nbformat_minor": 2
}
