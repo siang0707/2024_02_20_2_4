{
 "cells": [
  {
   "cell_type": "code",
   "execution_count": 2,
   "metadata": {},
   "outputs": [
    {
     "name": "stdout",
     "output_type": "stream",
     "text": [
      "及格\n",
      "程式結束\n"
     ]
    }
   ],
   "source": [
    "score = eval(input('請輸入學生分數:'))\n",
    "\n",
    "#簡易雙項選擇\n",
    "if score >= 60:\n",
    "    print(\"及格\")\n",
    "else: #進行第二項編程要注意編程起始位置\n",
    "    print(\"不及格\")\n",
    "\n",
    "print(\"程式結束\")    "
   ]
  },
  {
   "cell_type": "code",
   "execution_count": 4,
   "metadata": {},
   "outputs": [
    {
     "name": "stdout",
     "output_type": "stream",
     "text": [
      "學生總分為262\n"
     ]
    }
   ],
   "source": [
    "#學生總分數為300\n",
    "#部份學生可以加分5%\n",
    "scores = eval(input(\"請輸入學生分數(最高300分):\"))\n",
    "is_add = input(\"學生是否符合加分條件?(y, n)\")\n",
    "\n",
    "if is_add == \"y\":\n",
    "    scores *= 1.05\n",
    "\n",
    "print(f'學生總分為{round(scores)}') #round為將括號內容值四捨五入的運算指令"
   ]
  }
 ],
 "metadata": {
  "kernelspec": {
   "display_name": "Python 3",
   "language": "python",
   "name": "python3"
  },
  "language_info": {
   "codemirror_mode": {
    "name": "ipython",
    "version": 3
   },
   "file_extension": ".py",
   "mimetype": "text/x-python",
   "name": "python",
   "nbconvert_exporter": "python",
   "pygments_lexer": "ipython3",
   "version": "3.10.13"
  }
 },
 "nbformat": 4,
 "nbformat_minor": 2
}
