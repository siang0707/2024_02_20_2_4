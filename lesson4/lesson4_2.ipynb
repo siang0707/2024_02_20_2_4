{
 "cells": [
  {
   "cell_type": "code",
   "execution_count": 2,
   "metadata": {},
   "outputs": [
    {
     "name": "stdout",
     "output_type": "stream",
     "text": [
      "及格\n",
      "程式結束\n"
     ]
    }
   ],
   "source": [
    "score = eval(input('請輸入學生分數:'))\n",
    "\n",
    "#簡易雙項選擇\n",
    "if score >= 60:\n",
    "    print(\"及格\")\n",
    "else: #進行第二項編程要注意編程起始位置\n",
    "    print(\"不及格\")\n",
    "\n",
    "print(\"程式結束\")    "
   ]
  },
  {
   "cell_type": "code",
   "execution_count": 4,
   "metadata": {},
   "outputs": [
    {
     "name": "stdout",
     "output_type": "stream",
     "text": [
      "學生總分為262\n"
     ]
    }
   ],
   "source": [
    "#學生總分數為300\n",
    "#部份學生可以加分5%\n",
    "scores = eval(input(\"請輸入學生分數(最高300分):\"))\n",
    "is_add = input(\"學生是否符合加分條件?(y, n)\")\n",
    "\n",
    "if is_add == \"y\":\n",
    "    scores *= 1.05\n",
    "\n",
    "print(f'學生總分為{round(scores)}') #round為將括號內容值四捨五入的運算指令"
   ]
  },
  {
   "cell_type": "code",
   "execution_count": 12,
   "metadata": {},
   "outputs": [
    {
     "name": "stdout",
     "output_type": "stream",
     "text": [
      "學生總分為262\n"
     ]
    }
   ],
   "source": [
    "#學生總分數為300\n",
    "#部份學生可以加分5%\n",
    "#如果加分超過300分，則以300分為準\n",
    "scores = eval(input(\"請輸入學生分數(最高300分):\"))\n",
    "is_add = input(\"學生是否符合加分條件?(y, n)\")\n",
    "\n",
    "if is_add == \"y\":\n",
    "    scores *= 1.05\n",
    "    if scores > 300: #此為第二條件，進行巢狀單項判斷\n",
    "        scores = 300\n",
    "\n",
    "print(f'學生總分為{round(scores)}')"
   ]
  },
  {
   "cell_type": "code",
   "execution_count": 15,
   "metadata": {},
   "outputs": [
    {
     "name": "stdout",
     "output_type": "stream",
     "text": [
      "學生總分為262\n"
     ]
    }
   ],
   "source": [
    "#學生總分數為300\n",
    "#部份學生可以加分5%\n",
    "#如果加分超過300分，則以300分為準\n",
    "#檢查學生輸入有沒有超過300分，超過請顯示提示\n",
    "scores = eval(input(\"請輸入學生分數(最高300分):\"))\n",
    "if scores <= 300:\n",
    "    is_add = input(\"學生是否符合加分條件?(y, n)\") #縮排變動可以把所要的圈選起來一次按Tab鍵進行縮排變動\n",
    "\n",
    "    if is_add == \"y\":\n",
    "        scores *= 1.05\n",
    "        if scores > 300:\n",
    "            scores = 300\n",
    "\n",
    "    print(f'學生總分為{round(scores)}')\n",
    "else:\n",
    "    print('輸入超過範圍')"
   ]
  },
  {
   "cell_type": "code",
   "execution_count": 19,
   "metadata": {},
   "outputs": [
    {
     "name": "stdout",
     "output_type": "stream",
     "text": [
      "輸入超過範圍\n"
     ]
    }
   ],
   "source": [
    "#學生總分數為300\n",
    "#部份學生可以加分5%\n",
    "#如果加分超過300分，則以300分為準\n",
    "#檢查學生輸入有沒有超過300分，超過請顯示提示\n",
    "#檢查學生輸入是否小於0分，超過請顯示提示\n",
    "scores = eval(input(\"請輸入學生分數(最高300分):\"))\n",
    "if scores <= 300:\n",
    "    if scores >= 0:\n",
    "        is_add = input(\"學生是否符合加分條件?(y, n)\")\n",
    "\n",
    "        if is_add == \"y\":\n",
    "            scores *= 1.05\n",
    "            if scores > 300:\n",
    "                scores = 300\n",
    "\n",
    "        print(f'學生總分為{round(scores)}')\n",
    "    else:\n",
    "        print('輸入不在範圍內')\n",
    "else:\n",
    "    print('輸入超過範圍')"
   ]
  },
  {
   "cell_type": "code",
   "execution_count": 24,
   "metadata": {},
   "outputs": [
    {
     "name": "stdout",
     "output_type": "stream",
     "text": [
      "學生總分為262\n"
     ]
    }
   ],
   "source": [
    "#學生總分數為300\n",
    "#部份學生可以加分5%\n",
    "#如果加分超過300分，則以300分為準\n",
    "#檢查學生輸入有沒有超過300分，超過請顯示提示\n",
    "#檢查學生輸入是否小於0分，超過請顯示提示\n",
    "scores = eval(input(\"請輸入學生分數(最高300分):\"))\n",
    "if scores <= 300 and scores >= 0: #第二種寫法\n",
    "    is_add = input(\"學生是否符合加分條件?(y, n)\") #縮排變動可以把所要的圈選起來一次按Tab鍵進行縮排變動\n",
    "\n",
    "    if is_add == \"y\":\n",
    "        scores *= 1.05\n",
    "        if scores > 300:\n",
    "            scores = 300\n",
    "\n",
    "    print(f'學生總分為{round(scores)}')\n",
    "else:\n",
    "    print('輸入不在範圍')"
   ]
  },
  {
   "cell_type": "code",
   "execution_count": 30,
   "metadata": {},
   "outputs": [
    {
     "name": "stdout",
     "output_type": "stream",
     "text": [
      "輸入格式錯誤\n"
     ]
    }
   ],
   "source": [
    "#以防輸入端有錯誤的格式輸入，用以解決 raise 錯誤的語法\n",
    "#try....except\n",
    "try:\n",
    "    money = eval(input('請輸入金額:'))\n",
    "    print(money)\n",
    "except:\n",
    "    print('輸入格式錯誤')"
   ]
  },
  {
   "cell_type": "code",
   "execution_count": 32,
   "metadata": {},
   "outputs": [
    {
     "name": "stdout",
     "output_type": "stream",
     "text": [
      "35\n",
      "程式沒有錯誤\n"
     ]
    }
   ],
   "source": [
    "#以防輸入端有錯誤的格式輸入，用以解決 raise 錯誤的語法\n",
    "#try....except....else\n",
    "try:\n",
    "    money = eval(input('請輸入金額:'))\n",
    "    print(money)\n",
    "except:\n",
    "    print('輸入格式錯誤')\n",
    "else:\n",
    "    print('程式沒有錯誤')"
   ]
  },
  {
   "cell_type": "code",
   "execution_count": 36,
   "metadata": {},
   "outputs": [
    {
     "name": "stdout",
     "output_type": "stream",
     "text": [
      "輸入不在範圍\n"
     ]
    }
   ],
   "source": [
    "#學生總分數為300\n",
    "#部份學生可以加分5%\n",
    "#如果加分超過300分，則以300分為準\n",
    "#檢查學生輸入有沒有超過300分，超過請顯示提示\n",
    "#檢查學生輸入是否小於0分，超過請顯示提示\n",
    "#檢查使用者輸入格式是否錯誤\n",
    "\n",
    "try:\n",
    "    scores = eval(input(\"請輸入學生分數(最高300分):\"))\n",
    "    if scores <= 300 and scores >= 0: \n",
    "        is_add = input(\"學生是否符合加分條件?(y, n)\") \n",
    "\n",
    "        if is_add == \"y\":\n",
    "            scores *= 1.05\n",
    "            if scores > 300:\n",
    "                scores = 300\n",
    "\n",
    "        print(f'學生總分為{round(scores)}')\n",
    "    else:\n",
    "        print('輸入不在範圍')\n",
    "except:\n",
    "    print('輸入格式有誤')"
   ]
  }
 ],
 "metadata": {
  "kernelspec": {
   "display_name": "Python 3",
   "language": "python",
   "name": "python3"
  },
  "language_info": {
   "codemirror_mode": {
    "name": "ipython",
    "version": 3
   },
   "file_extension": ".py",
   "mimetype": "text/x-python",
   "name": "python",
   "nbconvert_exporter": "python",
   "pygments_lexer": "ipython3",
   "version": "3.10.13"
  }
 },
 "nbformat": 4,
 "nbformat_minor": 2
}
