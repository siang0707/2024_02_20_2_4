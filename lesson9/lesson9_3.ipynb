{
 "cells": [
  {
   "cell_type": "code",
   "execution_count": 1,
   "metadata": {},
   "outputs": [
    {
     "data": {
      "text/plain": [
       "{'name': '徐國堂', 'chinese': 98, 'english': 76, 'math': 98}"
      ]
     },
     "execution_count": 1,
     "metadata": {},
     "output_type": "execute_result"
    }
   ],
   "source": [
    "# dict{} ，dictionary可以使用大括號，大括號的建立範例如下\n",
    "stu1:dict = {'name':\"徐國堂\", 'chinese':98, 'english':76, 'math':98}\n",
    "stu1"
   ]
  },
  {
   "cell_type": "code",
   "execution_count": 4,
   "metadata": {},
   "outputs": [
    {
     "data": {
      "text/plain": [
       "{'name': '徐國堂', 'chinese': 98, 'english': 76, 'math': 98}"
      ]
     },
     "execution_count": 4,
     "metadata": {},
     "output_type": "execute_result"
    }
   ],
   "source": [
    "dict([('name','徐國堂'), ('chinese',98), ('english',76), ('math',98)])\n",
    "#原本dictionary括號的建立方式"
   ]
  },
  {
   "cell_type": "code",
   "execution_count": 5,
   "metadata": {},
   "outputs": [
    {
     "data": {
      "text/plain": [
       "'徐國堂'"
      ]
     },
     "execution_count": 5,
     "metadata": {},
     "output_type": "execute_result"
    }
   ],
   "source": [
    "stu1['name']"
   ]
  },
  {
   "cell_type": "code",
   "execution_count": 11,
   "metadata": {},
   "outputs": [
    {
     "name": "stdout",
     "output_type": "stream",
     "text": [
      "徐國堂\n",
      "98\n",
      "76\n",
      "98\n",
      "272\n",
      "90.67\n"
     ]
    }
   ],
   "source": [
    "from pydantic import BaseModel\n",
    "\n",
    "class Student(BaseModel):\n",
    "    #Feild\n",
    "    name:str\n",
    "    chinese:int\n",
    "    english:int\n",
    "    math:int\n",
    "\n",
    "    @property #註冊屬性\n",
    "    def sum(self) -> int:\n",
    "        return self.chinese + self.english + self.math\n",
    "    \n",
    "    def average(self) -> float: #此為實體不時註冊方式\n",
    "        return round(self.sum / 3,ndigits=2) #使用round將浮點數顯示為小數點後兩位數\n",
    "\n",
    "student1 = Student.model_validate({'name':\"徐國堂\", 'chinese':98, 'english':\"76\", 'math':98})\n",
    "#對應裡面的dictonary\n",
    "print(student1.name)\n",
    "print(student1.chinese)\n",
    "print(student1.english)\n",
    "print(student1.math)\n",
    "#即便是字串也可以自動轉換成int，但純數值無法轉換成字串須注意，會提示那邊出現錯誤資訊\n",
    "print(student1.sum)\n",
    "print(student1.average())"
   ]
  }
 ],
 "metadata": {
  "kernelspec": {
   "display_name": "Python 3",
   "language": "python",
   "name": "python3"
  },
  "language_info": {
   "codemirror_mode": {
    "name": "ipython",
    "version": 3
   },
   "file_extension": ".py",
   "mimetype": "text/x-python",
   "name": "python",
   "nbconvert_exporter": "python",
   "pygments_lexer": "ipython3",
   "version": "3.10.13"
  }
 },
 "nbformat": 4,
 "nbformat_minor": 2
}
