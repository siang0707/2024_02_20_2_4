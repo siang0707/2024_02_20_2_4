{
 "cells": [
  {
   "cell_type": "code",
   "execution_count": 19,
   "metadata": {},
   "outputs": [
    {
     "name": "stdout",
     "output_type": "stream",
     "text": [
      "姓名:徐xx, 身高:178.0公分, 體重:78.0公斤, BMI:24.62, 過重\n",
      "===========================================================\n",
      "姓名:王xx, 身高:168.0公分, 體重:45.0公斤, BMI:15.94, 體重過輕\n",
      "===========================================================\n",
      "姓名:張xx, 身高:183.0公分, 體重:78.0公斤, BMI:23.29, 正常範圍\n",
      "===========================================================\n"
     ]
    }
   ],
   "source": [
    "from pydantic import BaseModel,RootModel\n",
    "\n",
    "source:list[dict] = [\n",
    "    {'name':'徐xx','height':178,'weight':78},\n",
    "    {'name':'王xx','height':168,'weight':45},\n",
    "    {'name':'張xx','height':183,'weight':78},\n",
    "]\n",
    "\n",
    "class Review(BaseModel):\n",
    "    name:str\n",
    "    height:float\n",
    "    weight:float\n",
    "\n",
    "    @property\n",
    "    def bmi(self) -> float:\n",
    "        return round(self.weight / (self.height / 100) ** 2, ndigits=2)\n",
    "    \n",
    "    @property\n",
    "    def msg(self) -> str:\n",
    "        if self.bmi < 18.5:\n",
    "            return '體重過輕'\n",
    "        elif self.bmi < 24:\n",
    "            return '正常範圍'\n",
    "        elif self.bmi < 27:\n",
    "            return '過重'\n",
    "        elif self.bmi < 30:\n",
    "            return '輕度肥胖'\n",
    "        elif self.bmi < 35:\n",
    "            return '中度肥胖'\n",
    "        else:\n",
    "            return '重度肥胖'\n",
    "\n",
    "class AllSource(RootModel):\n",
    "    root:list[Review]\n",
    "\n",
    "    def __iter__(self):\n",
    "        return iter(self.root)\n",
    "    \n",
    "    def __getitem__(self,item):\n",
    "        return self.root[item]\n",
    "\n",
    "Datas:AllSource = AllSource.model_validate(source)\n",
    "\n",
    "for Data in Datas:\n",
    "    print(f'姓名:{Data.name}, 身高:{Data.height}公分, 體重:{Data.weight}公斤, BMI:{Data.bmi}, {Data.msg}')\n",
    "    print(\"===========================================================\")"
   ]
  }
 ],
 "metadata": {
  "kernelspec": {
   "display_name": "Python 3",
   "language": "python",
   "name": "python3"
  },
  "language_info": {
   "codemirror_mode": {
    "name": "ipython",
    "version": 3
   },
   "file_extension": ".py",
   "mimetype": "text/x-python",
   "name": "python",
   "nbconvert_exporter": "python",
   "pygments_lexer": "ipython3",
   "version": "3.10.13"
  }
 },
 "nbformat": 4,
 "nbformat_minor": 2
}
