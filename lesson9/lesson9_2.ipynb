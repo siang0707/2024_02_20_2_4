{
 "cells": [
  {
   "cell_type": "code",
   "execution_count": 17,
   "metadata": {},
   "outputs": [],
   "source": [
    "class Person():\n",
    "    def __init__(self,n:str):\n",
    "        self.name = n\n",
    "    \n",
    "    def exclaim(self):\n",
    "        print(f'我的名字是{self.name}')\n",
    "\n",
    "class Student(Person): #繼承Person的實體方法\n",
    "    def __init__(self, na: str, ch:int=0, en:int=0):\n",
    "        super().__init__(n=na)\n",
    "        self.chinese = ch\n",
    "        self.english = en\n",
    "    \n",
    "    def sum(self) -> int:  #可以再內建出一個計算總分的部分\n",
    "        return self.chinese + self.english\n",
    "    \n",
    "    @property #定義了一個屬性，該屬性是property，後續就不需要呼叫括號直接打average即可\n",
    "    def average(self) -> float:\n",
    "        return self.sum() / 2"
   ]
  },
  {
   "cell_type": "code",
   "execution_count": 18,
   "metadata": {},
   "outputs": [
    {
     "name": "stdout",
     "output_type": "stream",
     "text": [
      "<class '__main__.Student'>\n",
      "我的名字是徐國堂\n",
      "90\n",
      "80\n",
      "170\n",
      "85.0\n"
     ]
    }
   ],
   "source": [
    "stu1 = Student(na='徐國堂', ch=90,en=80)\n",
    "print(type(stu1))\n",
    "stu1.exclaim()\n",
    "print(stu1.chinese)\n",
    "print(stu1.english)\n",
    "print(stu1.sum()) #要有呼叫括號，會要小心遺忘是要呼叫的部分不是直接打指令\n",
    "print(stu1.average) #此處因有使用property的關係就不需要呼叫括號，兩種差異要注意"
   ]
  },
  {
   "cell_type": "code",
   "execution_count": 19,
   "metadata": {},
   "outputs": [
    {
     "name": "stdout",
     "output_type": "stream",
     "text": [
      "<class '__main__.Student'>\n",
      "我的名字是張XX\n",
      "100\n",
      "100\n",
      "200\n",
      "100.0\n"
     ]
    }
   ],
   "source": [
    "stu2 = Student(na='張XX',ch=100,en=100)\n",
    "print(type(stu2))\n",
    "stu2.exclaim()\n",
    "print(stu2.chinese)\n",
    "print(stu2.english)\n",
    "print(stu2.sum())\n",
    "print(stu2.average)"
   ]
  }
 ],
 "metadata": {
  "kernelspec": {
   "display_name": "Python 3",
   "language": "python",
   "name": "python3"
  },
  "language_info": {
   "codemirror_mode": {
    "name": "ipython",
    "version": 3
   },
   "file_extension": ".py",
   "mimetype": "text/x-python",
   "name": "python",
   "nbconvert_exporter": "python",
   "pygments_lexer": "ipython3",
   "version": "3.10.13"
  }
 },
 "nbformat": 4,
 "nbformat_minor": 2
}
