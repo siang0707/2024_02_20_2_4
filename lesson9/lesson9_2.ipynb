{
 "cells": [
  {
   "cell_type": "code",
   "execution_count": 1,
   "metadata": {},
   "outputs": [],
   "source": [
    "class Person():\n",
    "    def __init__(self,n:str):\n",
    "        self.name = n\n",
    "    \n",
    "    def exclaim(self):\n",
    "        print(f'我的名字是{self.name}')\n",
    "\n",
    "class Student(Person): #繼承Person的實體方法\n",
    "    def __init__(self, na: str):\n",
    "        super().__init__(n=na)"
   ]
  },
  {
   "cell_type": "code",
   "execution_count": 2,
   "metadata": {},
   "outputs": [
    {
     "name": "stdout",
     "output_type": "stream",
     "text": [
      "<class '__main__.Student'>\n",
      "我的名字是徐國堂\n"
     ]
    }
   ],
   "source": [
    "stu1 = Student(na='徐國堂')\n",
    "print(type(stu1))\n",
    "stu1.exclaim()"
   ]
  },
  {
   "cell_type": "code",
   "execution_count": 3,
   "metadata": {},
   "outputs": [
    {
     "name": "stdout",
     "output_type": "stream",
     "text": [
      "<class '__main__.Student'>\n",
      "我的名字是徐國堂\n"
     ]
    }
   ],
   "source": [
    "stu2 = Student(na='張XX')\n",
    "print(type(stu2))\n",
    "stu1.exclaim()"
   ]
  }
 ],
 "metadata": {
  "kernelspec": {
   "display_name": "Python 3",
   "language": "python",
   "name": "python3"
  },
  "language_info": {
   "codemirror_mode": {
    "name": "ipython",
    "version": 3
   },
   "file_extension": ".py",
   "mimetype": "text/x-python",
   "name": "python",
   "nbconvert_exporter": "python",
   "pygments_lexer": "ipython3",
   "version": "3.10.13"
  }
 },
 "nbformat": 4,
 "nbformat_minor": 2
}
