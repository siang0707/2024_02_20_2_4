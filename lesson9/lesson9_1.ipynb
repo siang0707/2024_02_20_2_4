{
 "cells": [
  {
   "cell_type": "code",
   "execution_count": 14,
   "metadata": {},
   "outputs": [],
   "source": [
    "#自定義的class，class為定義類別\n",
    "class Person():\n",
    "    def __init__(self,n:str):\n",
    "        #建立屬性attribute\n",
    "        self.name = n\n",
    "    \n",
    "    #建立實體的method\n",
    "    def exclaim(self):\n",
    "        print(f'我的名字是{self.name}')\n"
   ]
  },
  {
   "cell_type": "code",
   "execution_count": 12,
   "metadata": {},
   "outputs": [
    {
     "name": "stdout",
     "output_type": "stream",
     "text": [
      "<class '__main__.Person'>\n",
      "徐國堂\n"
     ]
    }
   ],
   "source": [
    "p1 = Person(n='徐國堂')\n",
    "print(type(p1))\n",
    "#在主程式內建立了一個Person\n",
    "print(p1.name)"
   ]
  },
  {
   "cell_type": "code",
   "execution_count": 15,
   "metadata": {},
   "outputs": [
    {
     "name": "stdout",
     "output_type": "stream",
     "text": [
      "<class '__main__.Person'>\n",
      "徐國堂\n",
      "我的名字是徐國堂\n"
     ]
    }
   ],
   "source": [
    "p1 = Person(n='徐國堂')\n",
    "print(type(p1))\n",
    "print(p1.name)\n",
    "p1.exclaim() #多出了建立的method"
   ]
  },
  {
   "cell_type": "code",
   "execution_count": 10,
   "metadata": {},
   "outputs": [
    {
     "name": "stdout",
     "output_type": "stream",
     "text": [
      "<class 'list'>\n"
     ]
    }
   ],
   "source": [
    "L1 = list()\n",
    "print(type(L1))"
   ]
  },
  {
   "cell_type": "code",
   "execution_count": 13,
   "metadata": {},
   "outputs": [
    {
     "name": "stdout",
     "output_type": "stream",
     "text": [
      "<class '__main__.Person'>\n",
      "張XX\n"
     ]
    }
   ],
   "source": [
    "p2 = Person(n='張XX')\n",
    "print(type(p2))\n",
    "print(p2.name)\n",
    "#可以不限制的建立各個Person"
   ]
  },
  {
   "cell_type": "code",
   "execution_count": 16,
   "metadata": {},
   "outputs": [
    {
     "name": "stdout",
     "output_type": "stream",
     "text": [
      "<class '__main__.Person'>\n",
      "張XX\n",
      "我的名字是張XX\n"
     ]
    }
   ],
   "source": [
    "p2 = Person(n='張XX')\n",
    "print(type(p2))\n",
    "print(p2.name)\n",
    "p2.exclaim()"
   ]
  }
 ],
 "metadata": {
  "kernelspec": {
   "display_name": "Python 3",
   "language": "python",
   "name": "python3"
  },
  "language_info": {
   "codemirror_mode": {
    "name": "ipython",
    "version": 3
   },
   "file_extension": ".py",
   "mimetype": "text/x-python",
   "name": "python",
   "nbconvert_exporter": "python",
   "pygments_lexer": "ipython3",
   "version": "3.10.13"
  }
 },
 "nbformat": 4,
 "nbformat_minor": 2
}
