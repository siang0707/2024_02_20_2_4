{
 "cells": [
  {
   "cell_type": "code",
   "execution_count": 1,
   "metadata": {},
   "outputs": [
    {
     "name": "stdout",
     "output_type": "stream",
     "text": [
      "徐xx的 BMI 為：24.62，屬於'過重'範疇。\n",
      "王xx的 BMI 為：26.57，屬於'過重'範疇。\n",
      "張xx的 BMI 為：23.29，屬於'正常範圍'範疇。\n"
     ]
    }
   ],
   "source": [
    "def calculate_bmi(height:int, weight:int) -> float:\n",
    "    # 計算 BMI，公式：BMI = 體重（kg）/ 身高（米）的平方\n",
    "    height_m = height / 100  # 將身高從厘米換算為米\n",
    "    bmi = weight / (height_m ** 2)\n",
    "    return bmi\n",
    "\n",
    "def bmi_advice(bmi:float) -> str:\n",
    "    # 提供建議\n",
    "    if bmi < 18.5:\n",
    "        return \"體重過輕\"\n",
    "    elif 18.5 <= bmi < 24:\n",
    "        return \"正常範圍\"\n",
    "    elif 24 <= bmi < 27:\n",
    "        return \"過重\"\n",
    "    elif 27 <= bmi < 30:\n",
    "        return \"輕度肥胖\"\n",
    "    else:\n",
    "        return \"重度肥胖\"\n",
    "\n",
    "names:list[dict] = [\n",
    "    {'name':'徐xx','height':178,'weight':78},\n",
    "    {'name':'王xx','height':168,'weight':75},\n",
    "    {'name':'張xx','height':183,'weight':78},\n",
    "]\n",
    "\n",
    "for person in names:\n",
    "    bmi:float = calculate_bmi(person['height'], person['weight'])\n",
    "    advice:str = bmi_advice(bmi)\n",
    "    print(f\"{person['name']}的 BMI 為：{bmi:.2f}，屬於'{advice}'範疇。\")"
   ]
  }
 ],
 "metadata": {
  "kernelspec": {
   "display_name": "Python 3",
   "language": "python",
   "name": "python3"
  },
  "language_info": {
   "codemirror_mode": {
    "name": "ipython",
    "version": 3
   },
   "file_extension": ".py",
   "mimetype": "text/x-python",
   "name": "python",
   "nbconvert_exporter": "python",
   "pygments_lexer": "ipython3",
   "version": "3.10.13"
  }
 },
 "nbformat": 4,
 "nbformat_minor": 2
}
