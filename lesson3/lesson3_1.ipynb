{
 "cells": [
  {
   "cell_type": "code",
   "execution_count": 1,
   "metadata": {},
   "outputs": [
    {
     "name": "stdout",
     "output_type": "stream",
     "text": [
      "Hello! Python!\n"
     ]
    }
   ],
   "source": [
    "print(\"Hello! Python!\")"
   ]
  },
  {
   "cell_type": "code",
   "execution_count": 2,
   "metadata": {},
   "outputs": [
    {
     "data": {
      "text/plain": [
       "5"
      ]
     },
     "execution_count": 2,
     "metadata": {},
     "output_type": "execute_result"
    }
   ],
   "source": [
    "n=input('請輸入整數')\n",
    "type(n) #檢查型別，實質即便輸入數字也單純只是字串(str)格式\n",
    "\n",
    "int(n) #此行鍵入後，上面的type就無意義，就將內容變成數值"
   ]
  },
  {
   "cell_type": "code",
   "execution_count": 3,
   "metadata": {},
   "outputs": [
    {
     "name": "stdout",
     "output_type": "stream",
     "text": [
      "n= 5\n",
      "m= 50.8\n"
     ]
    }
   ],
   "source": [
    "n=int(input('請輸入整數'))\n",
    "m=float(input('請輸入浮點數'))\n",
    "print(\"n=\",n) #前面是顯示變數n=，後面則將變數值輸出，需要有逗號分別開\n",
    "print(\"m=\",m)"
   ]
  },
  {
   "cell_type": "code",
   "execution_count": 7,
   "metadata": {},
   "outputs": [
    {
     "name": "stdout",
     "output_type": "stream",
     "text": [
      "n= 5 ,m= 50.8\n",
      "n=5,m=50.8\n"
     ]
    }
   ],
   "source": [
    "n=int(input('請輸入整數'))\n",
    "m=float(input('請輸入浮點數'))\n",
    "print(\"n=\",n,\",m=\",m)\n",
    "print(f\"n={n},m={m}\") #字串插補(字串格式化的簡寫)"
   ]
  },
  {
   "cell_type": "code",
   "execution_count": 2,
   "metadata": {},
   "outputs": [
    {
     "name": "stdout",
     "output_type": "stream",
     "text": [
      "n=5,m=50.8\n"
     ]
    }
   ],
   "source": [
    "print(\"n=5,m=50.8\")"
   ]
  },
  {
   "cell_type": "code",
   "execution_count": 3,
   "metadata": {},
   "outputs": [
    {
     "data": {
      "text/plain": [
       "'n=5,m=50.8'"
      ]
     },
     "execution_count": 3,
     "metadata": {},
     "output_type": "execute_result"
    }
   ],
   "source": [
    "#字串插補 (字串與變數的整合，傳出全新的字串)\n",
    "f'n={n},m={m}' # f 為格式化指令"
   ]
  },
  {
   "cell_type": "code",
   "execution_count": 10,
   "metadata": {},
   "outputs": [
    {
     "name": "stdout",
     "output_type": "stream",
     "text": [
      "PI=3.14\n"
     ]
    }
   ],
   "source": [
    "x=3.1415926\n",
    "print(f'PI={x:.2f}') #冒號後面 .2f是指顯示小數點兩位數為止，記得.2後面一定要有f指令格式化"
   ]
  },
  {
   "cell_type": "code",
   "execution_count": 12,
   "metadata": {},
   "outputs": [
    {
     "data": {
      "text/plain": [
       "float"
      ]
     },
     "execution_count": 12,
     "metadata": {},
     "output_type": "execute_result"
    }
   ],
   "source": [
    "y=eval(input('請輸入一個數值:')) # eval指令可以轉換為int或float\n",
    "type(y)"
   ]
  }
 ],
 "metadata": {
  "kernelspec": {
   "display_name": "Python 3",
   "language": "python",
   "name": "python3"
  },
  "language_info": {
   "codemirror_mode": {
    "name": "ipython",
    "version": 3
   },
   "file_extension": ".py",
   "mimetype": "text/x-python",
   "name": "python",
   "nbconvert_exporter": "python",
   "pygments_lexer": "ipython3",
   "version": "3.10.13"
  }
 },
 "nbformat": 4,
 "nbformat_minor": 2
}
