{
 "cells": [
  {
   "cell_type": "code",
   "execution_count": 6,
   "metadata": {},
   "outputs": [
    {
     "name": "stdout",
     "output_type": "stream",
     "text": [
      "謝景翔\n",
      "身高:170cm, 體重:80公斤\n",
      "BMI:27.68\n"
     ]
    }
   ],
   "source": [
    "#計算BMI值\n",
    "name=input('請輸入姓名:')\n",
    "height=eval(input('請輸入身高(公分):'))\n",
    "weight=eval(input('請輸入體重(公斤):'))\n",
    "BMI=weight/(height/100)**2\n",
    "print(f'{name}\\n身高:{height}cm, 體重:{weight}公斤\\nBMI:{BMI:.2f}')"
   ]
  }
 ],
 "metadata": {
  "kernelspec": {
   "display_name": "Python 3",
   "language": "python",
   "name": "python3"
  },
  "language_info": {
   "codemirror_mode": {
    "name": "ipython",
    "version": 3
   },
   "file_extension": ".py",
   "mimetype": "text/x-python",
   "name": "python",
   "nbconvert_exporter": "python",
   "pygments_lexer": "ipython3",
   "version": "3.10.13"
  }
 },
 "nbformat": 4,
 "nbformat_minor": 2
}
