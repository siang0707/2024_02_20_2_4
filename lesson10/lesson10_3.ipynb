{
 "cells": [
  {
   "cell_type": "code",
   "execution_count": 1,
   "metadata": {},
   "outputs": [],
   "source": [
    "import random\n",
    "\n",
    "def get_names(nums:int = 5) -> list[str]:\n",
    "    with open('names.txt',encoding='utf8') as file:\n",
    "        content:str = file.read()\n",
    "        names:list[str] = content.split(sep='\\n')\n",
    "        random_names:list[str] = random.choices(names,k=nums)\n",
    "    return random_names\n",
    "\n",
    "\n",
    "def get_scores(names:list[str]) -> list[dict]:\n",
    "    stus:list[dict] = []\n",
    "    for name in names:\n",
    "        stu:dict[str:any] = {}\n",
    "        stu[\"name\"] = name\n",
    "        stu[\"chinese\"] = random.randint(50,100)\n",
    "        stu[\"english\"] = random.randint(50,100)\n",
    "        stu[\"math\"] = random.randint(50,100)\n",
    "        stus.append(stu)\n",
    "    return stus\n"
   ]
  },
  {
   "cell_type": "code",
   "execution_count": 2,
   "metadata": {},
   "outputs": [
    {
     "name": "stdout",
     "output_type": "stream",
     "text": [
      "請輸入學生數(1~30):[{'chinese': 96, 'english': 62, 'math': 71, 'name': '楊綺芬'},\n",
      " {'chinese': 66, 'english': 100, 'math': 69, 'name': '羅幸娥'},\n",
      " {'chinese': 92, 'english': 52, 'math': 63, 'name': '陳冠竹'},\n",
      " {'chinese': 77, 'english': 52, 'math': 77, 'name': '楊建安'},\n",
      " {'chinese': 99, 'english': 60, 'math': 94, 'name': '王良斌'},\n",
      " {'chinese': 92, 'english': 55, 'math': 77, 'name': '楊健麟'},\n",
      " {'chinese': 57, 'english': 79, 'math': 91, 'name': '杜儀鳳'},\n",
      " {'chinese': 63, 'english': 54, 'math': 95, 'name': '劉萬季'},\n",
      " {'chinese': 75, 'english': 84, 'math': 61, 'name': '張嘉韋'},\n",
      " {'chinese': 57, 'english': 68, 'math': 85, 'name': '陳家維'},\n",
      " {'chinese': 97, 'english': 78, 'math': 72, 'name': '林建宏'},\n",
      " {'chinese': 50, 'english': 95, 'math': 88, 'name': '崔孝憲'},\n",
      " {'chinese': 73, 'english': 79, 'math': 50, 'name': '白世宏'},\n",
      " {'chinese': 81, 'english': 78, 'math': 86, 'name': '蒙淑惠'},\n",
      " {'chinese': 67, 'english': 94, 'math': 54, 'name': '簡佳樺'}]\n"
     ]
    }
   ],
   "source": [
    "from tools import get_names,get_scores\n",
    "import pyinputplus as pyip\n",
    "from pprint import pprint\n",
    "\n",
    "def main():\n",
    "    nums:int = pyip.inputInt(\"請輸入學生數(1~30):\",min=1,max=30)\n",
    "    names:list[str] = get_names(nums=nums)\n",
    "    scores = get_scores(names)\n",
    "    pprint(scores)\n",
    "\n",
    "if __name__ == '__main__':\n",
    "    main()"
   ]
  }
 ],
 "metadata": {
  "kernelspec": {
   "display_name": "Python 3",
   "language": "python",
   "name": "python3"
  },
  "language_info": {
   "codemirror_mode": {
    "name": "ipython",
    "version": 3
   },
   "file_extension": ".py",
   "mimetype": "text/x-python",
   "name": "python",
   "nbconvert_exporter": "python",
   "pygments_lexer": "ipython3",
   "version": "3.10.13"
  }
 },
 "nbformat": 4,
 "nbformat_minor": 2
}
