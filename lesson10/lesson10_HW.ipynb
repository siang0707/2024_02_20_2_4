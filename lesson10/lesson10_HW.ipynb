{
 "cells": [
  {
   "cell_type": "code",
   "execution_count": 25,
   "metadata": {},
   "outputs": [
    {
     "name": "stdout",
     "output_type": "stream",
     "text": [
      "請輸入人數(1~50):[{'height': 159, 'name': '蔡士賢', 'weight': 80},\n",
      " {'height': 194, 'name': '陳姵彬', 'weight': 66},\n",
      " {'height': 186, 'name': '劉依婷', 'weight': 71},\n",
      " {'height': 202, 'name': '柯韋成', 'weight': 52}]\n"
     ]
    }
   ],
   "source": [
    "import random\n",
    "import pyinputplus as pyip\n",
    "from pprint import pprint\n",
    "\n",
    "def get_datas(nums:int) -> list[str]:\n",
    "    with open('names.txt',encoding='utf-8') as file:\n",
    "        content:str = file.read()\n",
    "        datas:list[str] = content.split(sep='\\n')\n",
    "        random_datas:list[str] = random.choices(datas,k=nums)\n",
    "    return random_datas\n",
    "\n",
    "#############################################################\n",
    "def get_sources(datas:list[str]) -> list[dict]:\n",
    "    peoples:list[dict] = []\n",
    "    for data in datas:\n",
    "        people:dict[str:any] = {}\n",
    "        people[\"name\"] = data\n",
    "        people[\"height\"] = random.randint(150,220)\n",
    "        people[\"weight\"] = random.randint(40,90)\n",
    "        peoples.append(people)\n",
    "    return peoples\n",
    "\n",
    "##############################################################\n",
    "\n",
    "def main():\n",
    "    numbers:int = pyip.inputInt(\"請輸入人數(1~50):\",min=1,max=50)\n",
    "    datas:list[str] = get_datas(nums=numbers)\n",
    "    peopleData:list[dict] = get_sources(datas)\n",
    "    pprint(peopleData)\n",
    "\n",
    "main()"
   ]
  },
  {
   "cell_type": "code",
   "execution_count": 26,
   "metadata": {},
   "outputs": [
    {
     "name": "stdout",
     "output_type": "stream",
     "text": [
      "請輸入指定人數(1~30):[{'name': '吳振瑋', 'height': 213, 'weight': 69},\n",
      " {'name': '童建霖', 'height': 215, 'weight': 84},\n",
      " {'name': '彭偉妃', 'height': 189, 'weight': 86},\n",
      " {'name': '陳慧君', 'height': 165, 'weight': 50}]\n"
     ]
    }
   ],
   "source": [
    "#宗源學友程式段\n",
    "import random\n",
    "import pyinputplus as pyip\n",
    "from pprint import pprint\n",
    "\n",
    "def getNames(num:int) -> list[str]:\n",
    "    with open('names.txt', encoding='utf-8') as file:\n",
    "        rawData:str = file.read()\n",
    "        names:list[str] = rawData.split('\\n')\n",
    "        random_names:list[str] = random.choices(names, k=num)\n",
    "\n",
    "        return random_names\n",
    "\n",
    "############################\n",
    "\n",
    "def generateData(names:list[str]) -> list[dict[str:any]]:\n",
    "    items:list[dict] = []\n",
    "\n",
    "    for name in names:\n",
    "        newItem:dict[str:any] = {\n",
    "            'name': name,\n",
    "            'height': random.randint(150, 220),\n",
    "            'weight': random.randint(40, 90)\n",
    "        }\n",
    "\n",
    "        # newItem['name'] = name\n",
    "        # newItem['height'] = random.randint(150, 220)\n",
    "        # newItem['weight'] = random.randint(40, 90)\n",
    "\n",
    "        items.append(newItem)\n",
    "\n",
    "    return items\n",
    "\n",
    "############################\n",
    "\n",
    "def main():\n",
    "    num:int = pyip.inputInt('請輸入指定人數(1~30):', min=1, max=50)\n",
    "    names:list[str] = getNames(num)\n",
    "    items:list[dict[str:any]] = generateData(names)\n",
    "\n",
    "    pprint(items, sort_dicts=False)\n",
    "\n",
    "main()"
   ]
  }
 ],
 "metadata": {
  "kernelspec": {
   "display_name": "Python 3",
   "language": "python",
   "name": "python3"
  },
  "language_info": {
   "codemirror_mode": {
    "name": "ipython",
    "version": 3
   },
   "file_extension": ".py",
   "mimetype": "text/x-python",
   "name": "python",
   "nbconvert_exporter": "python",
   "pygments_lexer": "ipython3",
   "version": "3.10.13"
  }
 },
 "nbformat": 4,
 "nbformat_minor": 2
}
