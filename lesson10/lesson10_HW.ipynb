{
 "cells": [
  {
   "cell_type": "code",
   "execution_count": 22,
   "metadata": {},
   "outputs": [
    {
     "name": "stdout",
     "output_type": "stream",
     "text": [
      "請輸入人數(1~50):[{'height': 179, 'name': '林怡偉', 'weight': 66},\n",
      " {'height': 198, 'name': '鄧哲榮', 'weight': 57},\n",
      " {'height': 181, 'name': '劉嘉泰', 'weight': 89}]\n"
     ]
    }
   ],
   "source": [
    "import random\n",
    "import pyinputplus as pyip\n",
    "from pprint import pprint\n",
    "\n",
    "def get_datas(nums:int) -> list[str]:\n",
    "    with open('names.txt',encoding='utf-8') as file:\n",
    "        content:str = file.read()\n",
    "        datas:list[str] = content.split(sep='\\n')\n",
    "        random_datas:list[str] = random.choices(datas,k=nums)\n",
    "    return random_datas\n",
    "\n",
    "#############################################################\n",
    "def get_sources(datas:list[str]) -> list[dict]:\n",
    "    peoples:list[dict] = []\n",
    "    for data in datas:\n",
    "        people:dict[str:any] = {}\n",
    "        people[\"name\"] = data\n",
    "        people[\"height\"] = random.randint(150,220)\n",
    "        people[\"weight\"] = random.randint(40,90)\n",
    "        peoples.append(people)\n",
    "    return peoples\n",
    "\n",
    "##############################################################\n",
    "\n",
    "def main():\n",
    "    numbers:int = pyip.inputInt(\"請輸入人數(1~50):\",min=1,max=50)\n",
    "    datas:list[str] = get_datas(nums=numbers)\n",
    "    peopleData = get_sources(datas)\n",
    "    pprint(peopleData)\n",
    "\n",
    "main()"
   ]
  },
  {
   "cell_type": "code",
   "execution_count": null,
   "metadata": {},
   "outputs": [],
   "source": [
    "#宗源學友程式段\n",
    "import random\n",
    "import pyinputplus as pyip\n",
    "from pprint import pprint\n",
    "\n",
    "def getNames(num:int) -> list[str]:\n",
    "    with open('names.txt', encoding='utf-8') as file:\n",
    "        rawData:str = file.read()\n",
    "        names:list[str] = rawData.split('\\n')\n",
    "        random_names:list[str] = random.choices(names, k=num)\n",
    "\n",
    "        return random_names\n",
    "\n",
    "############################\n",
    "\n",
    "def generateData(names:list[str]) -> list[dict[str:any]]:\n",
    "    items:list[dict] = []\n",
    "\n",
    "    for name in names:\n",
    "        newItem:dict[str:any] = {\n",
    "            'name': name,\n",
    "            'height': random.randint(150, 220),\n",
    "            'weight': random.randint(40, 90)\n",
    "        }\n",
    "\n",
    "        # newItem['name'] = name\n",
    "        # newItem['height'] = random.randint(150, 220)\n",
    "        # newItem['weight'] = random.randint(40, 90)\n",
    "\n",
    "        items.append(newItem)\n",
    "\n",
    "    return items\n",
    "\n",
    "############################\n",
    "\n",
    "def main():\n",
    "    num:int = pyip.inputInt('請輸入指定人數(1~30):', min=1, max=50)\n",
    "    names:list[str] = getNames(num)\n",
    "    items:list[dict[str:any]] = generateData(names)\n",
    "\n",
    "    pprint(items, sort_dicts=False)\n",
    "\n",
    "main()"
   ]
  }
 ],
 "metadata": {
  "kernelspec": {
   "display_name": "Python 3",
   "language": "python",
   "name": "python3"
  },
  "language_info": {
   "codemirror_mode": {
    "name": "ipython",
    "version": 3
   },
   "file_extension": ".py",
   "mimetype": "text/x-python",
   "name": "python",
   "nbconvert_exporter": "python",
   "pygments_lexer": "ipython3",
   "version": "3.10.13"
  }
 },
 "nbformat": 4,
 "nbformat_minor": 2
}
