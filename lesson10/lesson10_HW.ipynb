{
 "cells": [
  {
   "cell_type": "code",
   "execution_count": 43,
   "metadata": {},
   "outputs": [
    {
     "name": "stdout",
     "output_type": "stream",
     "text": [
      "請輸入人數(1~50):[{'name': '黃志福', 'height': 166, 'weight': 62},\n",
      " {'name': '臧怡君', 'height': 209, 'weight': 81},\n",
      " {'name': '楊少亮', 'height': 202, 'weight': 67},\n",
      " {'name': '吳志宣', 'height': 188, 'weight': 72},\n",
      " {'name': '葉軍仰', 'height': 166, 'weight': 53}]\n"
     ]
    }
   ],
   "source": [
    "import random\n",
    "import pyinputplus as pyip\n",
    "from pprint import pprint\n",
    "\n",
    "def get_datas(nums:int) -> list[str]:\n",
    "    with open('names.txt',encoding='utf-8') as file:\n",
    "        content:str = file.read()\n",
    "        datas:list[str] = content.split(sep='\\n')\n",
    "        random_datas:list[str] = random.choices(datas,k=nums)\n",
    "    return random_datas\n",
    "\n",
    "#############################################################\n",
    "def get_sources(datas:list[str]) -> list[dict]:\n",
    "    peoples:list[dict] = []\n",
    "    for data in datas:\n",
    "        people:dict[str:any] = {}\n",
    "        people[\"name\"] = data\n",
    "        people[\"height\"] = random.randint(150,220)\n",
    "        people[\"weight\"] = random.randint(40,90)\n",
    "        peoples.append(people)\n",
    "    return peoples\n",
    "\n",
    "##############################################################\n",
    "\n",
    "def main():\n",
    "    numbers:int = pyip.inputInt(\"請輸入人數(1~50):\",min=1,max=50)\n",
    "    datas:list[str] = get_datas(nums=numbers)\n",
    "    peoples:list[dict] = get_sources(datas)\n",
    "    pprint(peoples,sort_dicts=False)\n",
    "\n",
    "main()\n",
    "\n",
    "#pprint指令內的sort_dicts會有顯示順序錯誤問題，預設為True，要改為False顯示順序才正確"
   ]
  },
  {
   "cell_type": "code",
   "execution_count": 26,
   "metadata": {},
   "outputs": [
    {
     "name": "stdout",
     "output_type": "stream",
     "text": [
      "請輸入指定人數(1~30):[{'name': '吳振瑋', 'height': 213, 'weight': 69},\n",
      " {'name': '童建霖', 'height': 215, 'weight': 84},\n",
      " {'name': '彭偉妃', 'height': 189, 'weight': 86},\n",
      " {'name': '陳慧君', 'height': 165, 'weight': 50}]\n"
     ]
    }
   ],
   "source": [
    "#宗源學友程式段\n",
    "import random\n",
    "import pyinputplus as pyip\n",
    "from pprint import pprint\n",
    "\n",
    "def getNames(num:int) -> list[str]:\n",
    "    with open('names.txt', encoding='utf-8') as file:\n",
    "        rawData:str = file.read()\n",
    "        names:list[str] = rawData.split('\\n')\n",
    "        random_names:list[str] = random.choices(names, k=num)\n",
    "\n",
    "        return random_names\n",
    "\n",
    "############################\n",
    "\n",
    "def generateData(names:list[str]) -> list[dict[str:any]]:\n",
    "    items:list[dict] = []\n",
    "\n",
    "    for name in names:\n",
    "        newItem:dict[str:any] = {\n",
    "            'name': name,\n",
    "            'height': random.randint(150, 220),\n",
    "            'weight': random.randint(40, 90)\n",
    "        }\n",
    "\n",
    "        # newItem['name'] = name\n",
    "        # newItem['height'] = random.randint(150, 220)\n",
    "        # newItem['weight'] = random.randint(40, 90)\n",
    "\n",
    "        items.append(newItem)\n",
    "\n",
    "    return items\n",
    "\n",
    "############################\n",
    "\n",
    "def main():\n",
    "    num:int = pyip.inputInt('請輸入指定人數(1~30):', min=1, max=50)\n",
    "    names:list[str] = getNames(num)\n",
    "    items:list[dict[str:any]] = generateData(names)\n",
    "\n",
    "    pprint(items, sort_dicts=False)\n",
    "\n",
    "main()"
   ]
  },
  {
   "cell_type": "code",
   "execution_count": 37,
   "metadata": {},
   "outputs": [
    {
     "name": "stdout",
     "output_type": "stream",
     "text": [
      "[{'height': 197, 'name': '張婕妤', 'weight': 62},\n",
      " {'height': 183, 'name': '蔡嘉音', 'weight': 49},\n",
      " {'height': 150, 'name': '楊建安', 'weight': 76},\n",
      " {'height': 204, 'name': '陳信念', 'weight': 83},\n",
      " {'height': 178, 'name': '錢欣潔', 'weight': 61}]\n"
     ]
    }
   ],
   "source": [
    "import random\n",
    "from pprint import pprint\n",
    "def get_datas(nums:int=5) -> list[str]:\n",
    "    with open('names.txt',encoding='utf-8') as file:\n",
    "        content:str = file.read()\n",
    "        datas:list[str] = content.split(sep='\\n')\n",
    "        random_datas:list[str] = random.choices(datas,k=nums)\n",
    "    return random_datas\n",
    "\n",
    "#############################################################\n",
    "data = get_datas()\n",
    "peoples:list[dict]=[]\n",
    "for dat in data:\n",
    "    people:dict[str:any] = {}\n",
    "    people[\"name\"] = dat\n",
    "    people[\"height\"] = random.randint(150,220)\n",
    "    people[\"weight\"] = random.randint(40,90)\n",
    "    peoples.append(people)\n",
    "pprint(peoples)"
   ]
  }
 ],
 "metadata": {
  "kernelspec": {
   "display_name": "Python 3",
   "language": "python",
   "name": "python3"
  },
  "language_info": {
   "codemirror_mode": {
    "name": "ipython",
    "version": 3
   },
   "file_extension": ".py",
   "mimetype": "text/x-python",
   "name": "python",
   "nbconvert_exporter": "python",
   "pygments_lexer": "ipython3",
   "version": "3.10.13"
  }
 },
 "nbformat": 4,
 "nbformat_minor": 2
}
