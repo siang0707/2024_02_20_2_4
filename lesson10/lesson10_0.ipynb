{
 "cells": [
  {
   "cell_type": "code",
   "execution_count": 1,
   "metadata": {},
   "outputs": [
    {
     "name": "stdout",
     "output_type": "stream",
     "text": [
      "姓名: 徐xx, BMI: 24.61810377477591, 過重\n",
      "姓名: 王xx, BMI: 26.573129251700685, 過重\n",
      "姓名: 張xx, BMI: 23.291229956104985, 正常範圍\n"
     ]
    }
   ],
   "source": [
    "#宗源學友的程式碼\n",
    "from pydantic import BaseModel, RootModel\n",
    "\n",
    "class Item(BaseModel):\n",
    "    name:str\n",
    "    height:float\n",
    "    weight:float\n",
    "\n",
    "    def show(self):\n",
    "        print(f'姓名: {self.name}, BMI: {self.bmi}, {self.judgment}')\n",
    "\n",
    "    @property\n",
    "    def bmi(self) -> float:\n",
    "        return self.weight / (self.height / 100) ** 2\n",
    "    \n",
    "    @property\n",
    "    def judgment(self) -> str:\n",
    "        if self.bmi < 18.5:\n",
    "            return '體重過輕'\n",
    "        elif self.bmi < 24:\n",
    "            return '正常範圍'\n",
    "        elif self.bmi < 27:\n",
    "            return '過重'\n",
    "        elif self.bmi < 30:\n",
    "            return '輕度肥胖'\n",
    "        elif self.bmi < 35:\n",
    "            return '中度肥胖'\n",
    "        else:\n",
    "            return '重度肥胖'\n",
    "\n",
    "############################\n",
    "\n",
    "class Items(RootModel):\n",
    "    root:list[Item]\n",
    "\n",
    "    def showAll(self):\n",
    "        for item in self.root:\n",
    "            item.show()\n",
    "\n",
    "    def __iter__(self):\n",
    "        return iter(self.root)\n",
    "    \n",
    "    def __getitem__(self, idx):\n",
    "        return self.root[idx]\n",
    "\n",
    "############################\n",
    "\n",
    "def getItems() -> Items:\n",
    "    names:list[dict] = [\n",
    "        {'name':'徐xx','height':178,'weight':78},\n",
    "        {'name':'王xx','height':168,'weight':75},\n",
    "        {'name':'張xx','height':183,'weight':78}\n",
    "    ]\n",
    "\n",
    "    items:Items = Items.model_validate(names)\n",
    "\n",
    "    return items\n",
    "\n",
    "############################\n",
    "\n",
    "def main():\n",
    "    items:Items = getItems()\n",
    "    items.showAll()\n",
    "\n",
    "main()"
   ]
  }
 ],
 "metadata": {
  "kernelspec": {
   "display_name": "Python 3",
   "language": "python",
   "name": "python3"
  },
  "language_info": {
   "codemirror_mode": {
    "name": "ipython",
    "version": 3
   },
   "file_extension": ".py",
   "mimetype": "text/x-python",
   "name": "python",
   "nbconvert_exporter": "python",
   "pygments_lexer": "ipython3",
   "version": "3.10.13"
  }
 },
 "nbformat": 4,
 "nbformat_minor": 2
}
