{
 "cells": [
  {
   "cell_type": "code",
   "execution_count": null,
   "metadata": {},
   "outputs": [],
   "source": [
    "#使用外部套件pyinputplus\n",
    "#輸入\n",
    "#請輸入身高(cm):\n",
    "#請輸入體重(kg):\n",
    "#檢查身高和體重的格式,任一個錯誤,顯示格式錯誤,不做任何運算(使用外部套件pyinputplus)\n",
    "#輸出\n",
    "#您的BMI是xxx.xxx\n",
    "#您的體重:過重\n",
    "try:\n",
    "    height=eval(input('請輸入身高(公分):'))\n",
    "    try:\n",
    "        weight=eval(input('請輸入體重(公斤):'))\n",
    "        bmi=weight/(height/100)**2\n",
    "        print(f'身高:{height}cm, 體重:{weight}公斤\\n您的BMI是{bmi:.2f}')\n",
    "        if bmi < 18.5:\n",
    "            print('您的體重:過輕')\n",
    "        elif bmi >=18.5 and bmi <24:\n",
    "            print('您的體重:健康正常範圍')\n",
    "        elif bmi >=24 and bmi <27:\n",
    "            print('您的體重:過重')\n",
    "        elif bmi >=27 and bmi <30:\n",
    "            print('您的體重:輕度肥胖')\n",
    "        elif bmi >=30 and bmi <35:\n",
    "            print('您的體重:中度肥胖')\n",
    "        else:\n",
    "            print('您的體重:重度肥胖')\n",
    "    except:\n",
    "        print('體重格式輸入錯誤')\n",
    "except:\n",
    "    print('身高格式輸入有誤')"
   ]
  }
 ],
 "metadata": {
  "language_info": {
   "name": "python"
  }
 },
 "nbformat": 4,
 "nbformat_minor": 2
}
