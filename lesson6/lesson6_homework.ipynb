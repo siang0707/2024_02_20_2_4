{
 "cells": [
  {
   "cell_type": "code",
   "execution_count": 21,
   "metadata": {},
   "outputs": [
    {
     "name": "stdout",
     "output_type": "stream",
     "text": [
      "請輸入身高(公分):\n",
      "請輸入體重(公斤):\n",
      "身高:170cm, 體重:69公斤\n",
      "您的BMI是23.88\n",
      "您的體重:健康正常範圍\n"
     ]
    }
   ],
   "source": [
    "#使用外部套件pyinputplus\n",
    "#輸入\n",
    "#請輸入身高(cm):\n",
    "#請輸入體重(kg):\n",
    "#檢查身高和體重的格式,任一個錯誤,顯示格式錯誤,不做任何運算(使用外部套件pyinputplus)\n",
    "#輸出\n",
    "#您的BMI是xxx.xxx\n",
    "#您的體重:過重\n",
    "import pyinputplus as pyip\n",
    "try:\n",
    "    height=pyip.inputNum('請輸入身高(公分):\\n')\n",
    "    try:\n",
    "        weight=pyip.inputNum('請輸入體重(公斤):\\n')\n",
    "        bmi=weight/(height/100)**2\n",
    "        print(f'身高:{height}cm, 體重:{weight}公斤\\n您的BMI是{bmi:.2f}')\n",
    "        if bmi < 18.5:\n",
    "            print('您的體重:過輕')\n",
    "        elif bmi < 24:\n",
    "            print('您的體重:健康正常範圍')\n",
    "        elif bmi < 27:\n",
    "            print('您的體重:過重')\n",
    "        elif bmi < 30:\n",
    "            print('您的體重:輕度肥胖')\n",
    "        elif bmi < 35:\n",
    "            print('您的體重:中度肥胖')\n",
    "        else:\n",
    "            print('您的體重:重度肥胖')\n",
    "    except:\n",
    "        print('體重格式輸入錯誤')\n",
    "except:\n",
    "    print('身高格式輸入有誤')"
   ]
  }
 ],
 "metadata": {
  "kernelspec": {
   "display_name": "Python 3",
   "language": "python",
   "name": "python3"
  },
  "language_info": {
   "codemirror_mode": {
    "name": "ipython",
    "version": 3
   },
   "file_extension": ".py",
   "mimetype": "text/x-python",
   "name": "python",
   "nbconvert_exporter": "python",
   "pygments_lexer": "ipython3",
   "version": "3.10.13"
  }
 },
 "nbformat": 4,
 "nbformat_minor": 2
}
