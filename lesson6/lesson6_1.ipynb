{
 "cells": [
  {
   "cell_type": "code",
   "execution_count": 1,
   "metadata": {},
   "outputs": [
    {
     "name": "stdout",
     "output_type": "stream",
     "text": [
      "恭喜!已經存夠了，存了3個月的總存款為:31000元。\n"
     ]
    }
   ],
   "source": [
    "#參考lesson5_3，使用while True及結束迴圈break的語法\n",
    "deposit = 0\n",
    "month = 0\n",
    "while True:\n",
    "    month += 1\n",
    "    input_money = int(input(f\"請輸入第{month}月份的存款:\"))\n",
    "    deposit += input_money\n",
    "    if deposit >= 30000:\n",
    "        break\n",
    "\n",
    "print(f\"恭喜!已經存夠了，存了{month}個月的總存款為:{deposit}元。\")"
   ]
  },
  {
   "cell_type": "code",
   "execution_count": 4,
   "metadata": {},
   "outputs": [
    {
     "name": "stdout",
     "output_type": "stream",
     "text": [
      "加總的次數是4,所有輸入的正偶數的加總是20\n"
     ]
    }
   ],
   "source": [
    "#請設計一個程式，讓使用者輸入數值，只有加總正偶數值，不加總正奇數值，如有輸入負數，結束程式。\n",
    "num = 0\n",
    "num1 = 0\n",
    "sum = 0\n",
    "while True:\n",
    "    num1 += 1\n",
    "    input_value = int(input(f\"請輸入第{num1}個數值\"))\n",
    "    if input_value < 0: #敘述輸入值直到有小於0後跳出迴圈\n",
    "        break\n",
    "    elif input_value % 2 == 1: #輸入數值若為偶數則進行加總敘述;奇數值加總後面則是要=0\n",
    "        continue\n",
    "    num += 1\n",
    "    sum += input_value\n",
    "\n",
    "print(f\"加總的次數是{num},所有輸入的正偶數的加總是{sum}\")"
   ]
  },
  {
   "cell_type": "code",
   "execution_count": 9,
   "metadata": {},
   "outputs": [
    {
     "name": "stdout",
     "output_type": "stream",
     "text": [
      "10a:輸入格式錯誤\n",
      "10b:輸入格式錯誤\n",
      "10\n"
     ]
    }
   ],
   "source": [
    "while True:\n",
    "    try:\n",
    "        input_str = input(\"請輸入整數:\")\n",
    "        input_value = int(input_str)\n",
    "    except:\n",
    "        print(f\"{input_str}:輸入格式錯誤\") #因輸入非整數值，所以需要一行便是字串狀況再轉將正確格式轉成int或float型式\n",
    "    else:\n",
    "        break #輸入格式正確則跳出迴圈，輸入錯誤則跳回重複再輸入一次數值狀態\n",
    "\n",
    "print(input_value)"
   ]
  }
 ],
 "metadata": {
  "kernelspec": {
   "display_name": "Python 3",
   "language": "python",
   "name": "python3"
  },
  "language_info": {
   "codemirror_mode": {
    "name": "ipython",
    "version": 3
   },
   "file_extension": ".py",
   "mimetype": "text/x-python",
   "name": "python",
   "nbconvert_exporter": "python",
   "pygments_lexer": "ipython3",
   "version": "3.10.13"
  }
 },
 "nbformat": 4,
 "nbformat_minor": 2
}
