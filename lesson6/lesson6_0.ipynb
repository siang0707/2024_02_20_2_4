{
 "cells": [
  {
   "cell_type": "code",
   "execution_count": 9,
   "metadata": {},
   "outputs": [
    {
     "name": "stdout",
     "output_type": "stream",
     "text": [
      "10的因數為:\n",
      "1,2,5,10\n"
     ]
    }
   ],
   "source": [
    "#解決答案後面多出 \",\" 的問題\n",
    "try: \n",
    "    x = int(input('請輸入整數:'))\n",
    "    print(f'{x}的因數為:')\n",
    "    \n",
    "    is_list = []\n",
    "    for i in range(1,x+1):\n",
    "        if x%i == 0:\n",
    "            is_list.append(str(i))\n",
    "            \n",
    "    print(','.join(is_list))\n",
    "        \n",
    "except:\n",
    "    print('format error')"
   ]
  }
 ],
 "metadata": {
  "kernelspec": {
   "display_name": "Python 3",
   "language": "python",
   "name": "python3"
  },
  "language_info": {
   "codemirror_mode": {
    "name": "ipython",
    "version": 3
   },
   "file_extension": ".py",
   "mimetype": "text/x-python",
   "name": "python",
   "nbconvert_exporter": "python",
   "pygments_lexer": "ipython3",
   "version": "3.10.13"
  }
 },
 "nbformat": 4,
 "nbformat_minor": 2
}
