{
 "cells": [
  {
   "cell_type": "code",
   "execution_count": 1,
   "metadata": {},
   "outputs": [
    {
     "name": "stdout",
     "output_type": "stream",
     "text": [
      "(67, 89, 92)\n",
      "[67, 89, 92]\n"
     ]
    }
   ],
   "source": [
    "#tulpe演示, tuple內的資料建立後是無法修改 (暫時性資料)\n",
    "mytuple:tuple[int] = (67, 89, 92)\n",
    "print(mytuple)\n",
    "\n",
    "#list演示, list內的資料建立後是可修改 (永久保留性資料)\n",
    "mylist:list[int] = [67, 89, 92]\n",
    "print(mylist)"
   ]
  },
  {
   "cell_type": "code",
   "execution_count": 2,
   "metadata": {},
   "outputs": [
    {
     "name": "stdout",
     "output_type": "stream",
     "text": [
      "67 89 92\n"
     ]
    },
    {
     "data": {
      "text/plain": [
       "(67, 89, 92)"
      ]
     },
     "execution_count": 2,
     "metadata": {},
     "output_type": "execute_result"
    }
   ],
   "source": [
    "#tuple常用的拆解法\n",
    "(chinese, english, math) = (67, 89, 92)\n",
    "print(chinese, english, math)\n",
    "\n",
    "chinese, english, math #只有這樣才能一次顯示，若直接跳行會只顯示最後的條件"
   ]
  }
 ],
 "metadata": {
  "kernelspec": {
   "display_name": "Python 3",
   "language": "python",
   "name": "python3"
  },
  "language_info": {
   "codemirror_mode": {
    "name": "ipython",
    "version": 3
   },
   "file_extension": ".py",
   "mimetype": "text/x-python",
   "name": "python",
   "nbconvert_exporter": "python",
   "pygments_lexer": "ipython3",
   "version": "3.10.13"
  }
 },
 "nbformat": 4,
 "nbformat_minor": 2
}
