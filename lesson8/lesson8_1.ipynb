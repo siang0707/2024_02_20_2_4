{
 "cells": [
  {
   "cell_type": "code",
   "execution_count": 1,
   "metadata": {},
   "outputs": [
    {
     "name": "stdout",
     "output_type": "stream",
     "text": [
      "(67, 89, 92)\n",
      "[67, 89, 92]\n"
     ]
    }
   ],
   "source": [
    "#tulpe演示, tuple內的資料建立後是無法修改 (暫時性資料)\n",
    "mytuple:tuple[int] = (67, 89, 92)\n",
    "print(mytuple)\n",
    "\n",
    "#list演示, list內的資料建立後是可修改 (永久保留性資料)\n",
    "mylist:list[int] = [67, 89, 92]\n",
    "print(mylist)"
   ]
  },
  {
   "cell_type": "code",
   "execution_count": 2,
   "metadata": {},
   "outputs": [
    {
     "name": "stdout",
     "output_type": "stream",
     "text": [
      "67 89 92\n"
     ]
    },
    {
     "data": {
      "text/plain": [
       "(67, 89, 92)"
      ]
     },
     "execution_count": 2,
     "metadata": {},
     "output_type": "execute_result"
    }
   ],
   "source": [
    "#tuple常用的拆解法\n",
    "(chinese, english, math) = (67, 89, 92)\n",
    "print(chinese, english, math)\n",
    "\n",
    "chinese, english, math #只有這樣才能一次顯示，若直接跳行會只顯示最後的條件"
   ]
  },
  {
   "cell_type": "code",
   "execution_count": 3,
   "metadata": {},
   "outputs": [
    {
     "name": "stdout",
     "output_type": "stream",
     "text": [
      "[67, 89, 92]\n",
      "<class 'list'>\n"
     ]
    }
   ],
   "source": [
    "#list的使用方式\n",
    "scores:list[int] = [67, 89, 92] # Sequence(串列資料), 每個都有索引編號從左至右由0開始算起\n",
    "print(scores)\n",
    "print(type(scores))"
   ]
  },
  {
   "cell_type": "code",
   "execution_count": 5,
   "metadata": {},
   "outputs": [
    {
     "data": {
      "text/plain": [
       "(67, 89, 92)"
      ]
     },
     "execution_count": 5,
     "metadata": {},
     "output_type": "execute_result"
    }
   ],
   "source": [
    "#可以透過索引方式來取出值 (subscript)\n",
    "scores[0], scores[1], scores[2] #注意括弧形式"
   ]
  },
  {
   "cell_type": "code",
   "execution_count": 6,
   "metadata": {},
   "outputs": [
    {
     "name": "stdout",
     "output_type": "stream",
     "text": [
      "67\n",
      "89\n",
      "92\n"
     ]
    }
   ],
   "source": [
    "# list是屬於 iterable的資料形式\n",
    "for value in scores:\n",
    "    print(value)"
   ]
  },
  {
   "cell_type": "code",
   "execution_count": 7,
   "metadata": {},
   "outputs": [
    {
     "name": "stdout",
     "output_type": "stream",
     "text": [
      "80\n",
      "90\n",
      "100\n"
     ]
    }
   ],
   "source": [
    "#可以透過subscript改變元素值\n",
    "scores[0] = 80\n",
    "scores[1] = 90\n",
    "scores[2] = 100\n",
    "\n",
    "for value in scores:\n",
    "    print(value)"
   ]
  },
  {
   "cell_type": "code",
   "execution_count": 9,
   "metadata": {},
   "outputs": [
    {
     "data": {
      "text/plain": [
       "[80, 90, 100]"
      ]
     },
     "execution_count": 9,
     "metadata": {},
     "output_type": "execute_result"
    }
   ],
   "source": [
    "scores:list[int] = [] # list的實體屬性為空白\n",
    "scores.append(80) #list的實體方法 (類似function)\n",
    "scores.append(90)\n",
    "scores.append(100)\n",
    "scores"
   ]
  },
  {
   "cell_type": "code",
   "execution_count": 13,
   "metadata": {},
   "outputs": [
    {
     "data": {
      "text/plain": [
       "[80, 90, 100]"
      ]
     },
     "execution_count": 13,
     "metadata": {},
     "output_type": "execute_result"
    }
   ],
   "source": [
    "scores:list[int] = list() #第二種方法\n",
    "scores.extend((80, 90, 100))\n",
    "scores"
   ]
  }
 ],
 "metadata": {
  "kernelspec": {
   "display_name": "Python 3",
   "language": "python",
   "name": "python3"
  },
  "language_info": {
   "codemirror_mode": {
    "name": "ipython",
    "version": 3
   },
   "file_extension": ".py",
   "mimetype": "text/x-python",
   "name": "python",
   "nbconvert_exporter": "python",
   "pygments_lexer": "ipython3",
   "version": "3.10.13"
  }
 },
 "nbformat": 4,
 "nbformat_minor": 2
}
