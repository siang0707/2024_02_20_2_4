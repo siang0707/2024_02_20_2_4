{
 "cells": [
  {
   "cell_type": "code",
   "execution_count": 46,
   "metadata": {},
   "outputs": [
    {
     "ename": "TypeError",
     "evalue": "list indices must be integers or slices, not str",
     "output_type": "error",
     "traceback": [
      "\u001b[0;31m---------------------------------------------------------------------------\u001b[0m",
      "\u001b[0;31mTypeError\u001b[0m                                 Traceback (most recent call last)",
      "Cell \u001b[0;32mIn[46], line 31\u001b[0m\n\u001b[1;32m     29\u001b[0m     weight:\u001b[38;5;28mfloat\u001b[39m \u001b[38;5;241m=\u001b[39m inputFloat(\u001b[38;5;124m\"\u001b[39m\u001b[38;5;124m請輸入體重:\u001b[39m\u001b[38;5;124m\"\u001b[39m,\u001b[38;5;28mmin\u001b[39m\u001b[38;5;241m=\u001b[39m\u001b[38;5;241m0\u001b[39m,\u001b[38;5;28mmax\u001b[39m\u001b[38;5;241m=\u001b[39m\u001b[38;5;241m300\u001b[39m)\n\u001b[1;32m     30\u001b[0m     bmi \u001b[38;5;241m=\u001b[39m weight \u001b[38;5;241m/\u001b[39m (height \u001b[38;5;241m/\u001b[39m \u001b[38;5;241m100\u001b[39m) \u001b[38;5;241m*\u001b[39m\u001b[38;5;241m*\u001b[39m \u001b[38;5;241m2\u001b[39m\n\u001b[0;32m---> 31\u001b[0m \u001b[43mDatas\u001b[49m\u001b[43m[\u001b[49m\u001b[38;5;124;43m'\u001b[39;49m\u001b[38;5;124;43mName\u001b[39;49m\u001b[38;5;124;43m'\u001b[39;49m\u001b[43m]\u001b[49m \u001b[38;5;241m=\u001b[39m {name}\n\u001b[1;32m     32\u001b[0m Datas[\u001b[38;5;124m'\u001b[39m\u001b[38;5;124mHeight\u001b[39m\u001b[38;5;124m'\u001b[39m] \u001b[38;5;241m=\u001b[39m {height}\n\u001b[1;32m     33\u001b[0m Datas[\u001b[38;5;124m'\u001b[39m\u001b[38;5;124mWeight\u001b[39m\u001b[38;5;124m'\u001b[39m] \u001b[38;5;241m=\u001b[39m {weight}\n",
      "\u001b[0;31mTypeError\u001b[0m: list indices must be integers or slices, not str"
     ]
    }
   ],
   "source": [
    "#names = [\n",
    "#    {'name':'徐xx','height':178,'weight':78},\n",
    "#    {'name':'王xx','height':168,'weight':75},\n",
    "#    {'name':'張xx','height':183,'weight':78},\n",
    "#]\n",
    "#輸出:\n",
    "#徐xx,bmi:24.12,過重\n",
    "#王xx,bmi:24.12,過重\n",
    "#張xx,bmi:24.12,過重\n",
    "#尚未解決自行輸入姓名字串進入串列list dictionary問題\n",
    "def inputFloat(prompt:str,min:float,max:float)->float:\n",
    "    while(True):\n",
    "        try:\n",
    "            value:float = float(input(prompt))\n",
    "            if value >= min and value <= max:\n",
    "                return value\n",
    "            elif value < min:\n",
    "                value = print(f'輸入數值低於最小範圍{min}')\n",
    "            else:\n",
    "                value = print(f'輸入數值高於最大範圍{max}')\n",
    "        except:\n",
    "           print('格式有問題請重新輸入')\n",
    "           continue\n",
    "\n",
    "source:int = int(input(\"請輸入需要幾組人員BMI資料:\"))\n",
    "Datas:list[dict] = [()]\n",
    "for i in range(source):\n",
    "    name = input(\"請輸入姓名:\")\n",
    "    height:float = inputFloat(\"請輸入身高:\",min=0,max=300)\n",
    "    weight:float = inputFloat(\"請輸入體重:\",min=0,max=300)\n",
    "    bmi = weight / (height / 100) ** 2\n",
    "Datas['Name'] = name\n",
    "Datas['Height'] = height\n",
    "Datas['Weight'] = weight\n",
    "Datas['BMI'] = bmi\n",
    "\n",
    "def judge(bmi):\n",
    "    if bmi < 18.5:\n",
    "        return '體重過輕'\n",
    "    elif bmi < 24:\n",
    "        return '正常範圍'\n",
    "    elif bmi < 27:\n",
    "        return '過重'\n",
    "    elif bmi < 30:\n",
    "        return '輕度肥胖'\n",
    "    elif bmi < 35:\n",
    "        return '中度肥胖'\n",
    "    else:\n",
    "        return '重度肥胖'\n",
    "\n",
    "for Datas in Datas:\n",
    "    print(f'姓名:{Datas[\"Name\"]}, 身高:{Datas[\"Height\"]}, 體重:{Datas[\"Weight\"]}\\nBMI值:{Datas[\"BMI\"]},體重屬於{judge(Datas[\"BMI\"])}')\n",
    "print('=================================')"
   ]
  },
  {
   "cell_type": "code",
   "execution_count": 41,
   "metadata": {},
   "outputs": [
    {
     "name": "stdout",
     "output_type": "stream",
     "text": [
      "姓名:徐xx, 身高:178, 體重:78, BMI:24.62, 過重\n",
      "姓名:王xx, 身高:168, 體重:75, BMI:26.57, 過重\n",
      "姓名:張xx, 身高:183, 體重:78, BMI:23.29, 正常範圍\n"
     ]
    }
   ],
   "source": [
    "source:list[dict] = [\n",
    "    {'name':'徐xx','height':178,'weight':78},\n",
    "    {'name':'王xx','height':168,'weight':75},\n",
    "    {'name':'張xx','height':183,'weight':78},\n",
    "]\n",
    "def calculatorbmi(source:dict):\n",
    "    height:float = float(source['height'])\n",
    "    weight:float = float(source['weight'])\n",
    "    bmi:float = weight / (height / 100) ** 2\n",
    "    source['BMI'] = bmi\n",
    "\n",
    "def judge(bmi):\n",
    "    if bmi < 18.5:\n",
    "        return '體重過輕'\n",
    "    elif bmi < 24:\n",
    "        return '正常範圍'\n",
    "    elif bmi < 27:\n",
    "        return '過重'\n",
    "    elif bmi < 30:\n",
    "        return '輕度肥胖'\n",
    "    elif bmi < 35:\n",
    "        return '中度肥胖'\n",
    "    else:\n",
    "        return '重度肥胖'\n",
    "\n",
    "for source in source:\n",
    "    calculatorbmi(source)\n",
    "    print(f'姓名:{source[\"name\"]}, 身高:{source[\"height\"]}, 體重:{source[\"weight\"]}, BMI:{source[\"BMI\"]:.2f}, {judge(source[\"BMI\"])}')"
   ]
  },
  {
   "cell_type": "code",
   "execution_count": 40,
   "metadata": {},
   "outputs": [
    {
     "name": "stdout",
     "output_type": "stream",
     "text": [
      "姓名: 徐xx, BMI: 24.6, 過重\n",
      "姓名: 王xx, BMI: 26.6, 過重\n",
      "姓名: 張xx, BMI: 23.3, 正常範圍\n"
     ]
    }
   ],
   "source": [
    "#宗源學友\n",
    "def getItems():\n",
    "    items:list[dict] = [\n",
    "        {'name':'徐xx','height':178,'weight':78},\n",
    "        {'name':'王xx','height':168,'weight':75},\n",
    "        {'name':'張xx','height':183,'weight':78},\n",
    "    ]\n",
    "\n",
    "    return items\n",
    "\n",
    "############################\n",
    "\n",
    "def judgmentForBMI(bmi):\n",
    "    if bmi < 18.5:\n",
    "        return '體重過輕'\n",
    "    elif bmi < 24:\n",
    "        return '正常範圍'\n",
    "    elif bmi < 27:\n",
    "        return '過重'\n",
    "    elif bmi < 30:\n",
    "        return '輕度肥胖'\n",
    "    elif bmi < 35:\n",
    "        return '中度肥胖'\n",
    "    else:\n",
    "        return '重度肥胖'\n",
    "\n",
    "############################\n",
    "\n",
    "def calcForBMI(item:dict):\n",
    "    height:float = float(item['height'])\n",
    "    weight:float = float(item['weight'])\n",
    "    bmi:float = weight / (height / 100) ** 2\n",
    "    item['bmi'] = bmi\n",
    "\n",
    "############################\n",
    "\n",
    "def main():\n",
    "    items:list[dict] = getItems()\n",
    "\n",
    "    for item in items:\n",
    "        calcForBMI(item)\n",
    "        print(f'姓名: {item[\"name\"]}, BMI: {item[\"bmi\"]:.1f}, {judgmentForBMI(item[\"bmi\"])}')\n",
    "\n",
    "main()"
   ]
  },
  {
   "cell_type": "code",
   "execution_count": 27,
   "metadata": {},
   "outputs": [
    {
     "name": "stdout",
     "output_type": "stream",
     "text": [
      "姓名:徐xx, 身高:178, 體重:78, BMI:24.62 過重\n",
      "=================================================\n",
      "姓名:王xx, 身高:168, 體重:45, BMI:15.94 體重過輕\n",
      "=================================================\n",
      "姓名:張xx, 身高:183, 體重:78, BMI:23.29 正常範圍\n",
      "=================================================\n"
     ]
    }
   ],
   "source": [
    "#依教學版本建立\n",
    "source:list[dict] = [\n",
    "    {'name':'徐xx','height':178,'weight':78},\n",
    "    {'name':'王xx','height':168,'weight':45},\n",
    "    {'name':'張xx','height':183,'weight':78},\n",
    "]\n",
    "\n",
    "for data in source:\n",
    "    bmi:float = data['weight'] / (data['height'] / 100) ** 2\n",
    "    if bmi < 18.5:\n",
    "        msg = '體重過輕'\n",
    "    elif bmi < 24:\n",
    "        msg = '正常範圍'\n",
    "    elif bmi < 27:\n",
    "        msg = '過重'\n",
    "    elif bmi < 30:\n",
    "        msg = '輕度肥胖'\n",
    "    elif bmi < 35:\n",
    "        msg = '中度肥胖'\n",
    "    else:\n",
    "        msg = '重度肥胖'\n",
    "    print(f'姓名:{data[\"name\"]}, 身高:{data[\"height\"]}, 體重:{data[\"weight\"]}, BMI:{bmi:.2f}', msg)\n",
    "    print(\"=================================================\")"
   ]
  }
 ],
 "metadata": {
  "kernelspec": {
   "display_name": "Python 3",
   "language": "python",
   "name": "python3"
  },
  "language_info": {
   "codemirror_mode": {
    "name": "ipython",
    "version": 3
   },
   "file_extension": ".py",
   "mimetype": "text/x-python",
   "name": "python",
   "nbconvert_exporter": "python",
   "pygments_lexer": "ipython3",
   "version": "3.10.13"
  }
 },
 "nbformat": 4,
 "nbformat_minor": 2
}
