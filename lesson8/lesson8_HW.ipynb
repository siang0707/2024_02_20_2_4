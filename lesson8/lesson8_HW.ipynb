{
 "cells": [
  {
   "cell_type": "code",
   "execution_count": 6,
   "metadata": {},
   "outputs": [
    {
     "name": "stdout",
     "output_type": "stream",
     "text": [
      "姓名:徐XX, 身高:170.0, 體重:78.0\n",
      "BMI值:26.99,體重屬於過重\n",
      "=================================\n",
      "姓名:王XX, 身高:170.0, 體重:55.0\n",
      "BMI值:19.03,體重屬於正常範圍\n",
      "=================================\n"
     ]
    }
   ],
   "source": [
    "#names = [\n",
    "#    {'name':'徐xx','height':178,'weight':78},\n",
    "#    {'name':'王xx','height':168,'weight':75},\n",
    "#    {'name':'張xx','height':183,'weight':78},\n",
    "#]\n",
    "#輸出:\n",
    "#徐xx,bmi:24.12,過重\n",
    "#王xx,bmi:24.12,過重\n",
    "#張xx,bmi:24.12,過重\n",
    "\n",
    "def inputFloat(prompt:str,min:float,max:float)->float:\n",
    "    while(True):\n",
    "        try:\n",
    "            value:float = float(input(prompt))\n",
    "            if value >= min and value <= max:\n",
    "                return value\n",
    "            elif value < min:\n",
    "                value = print(f'輸入數值低於最小範圍{min}')\n",
    "            else:\n",
    "                value = print(f'輸入數值高於最大範圍{max}')\n",
    "        except:\n",
    "           print('格式有問題請重新輸入')           \n",
    "\n",
    "source:int = int(input(\"請輸入需要幾組人員BMI資料:\"))\n",
    "Datas:list[dict] = []\n",
    "for i in range(source):\n",
    "    name:str = input(\"請輸入姓名:\")\n",
    "    height:float = inputFloat(\"請輸入身高:\",min=0,max=300)\n",
    "    weight:float = inputFloat(\"請輸入體重:\",min=0,max=300)\n",
    "    bmi = weight / (height / 100) ** 2\n",
    "    Datas.append({'Name':name, 'Height':height, 'Weight':weight,'BMI':bmi})\n",
    "\n",
    "def judge(bmi):\n",
    "    if bmi < 18.5:\n",
    "        return '體重過輕'\n",
    "    elif bmi < 24:\n",
    "        return '正常範圍'\n",
    "    elif bmi < 27:\n",
    "        return '過重'\n",
    "    elif bmi < 30:\n",
    "        return '輕度肥胖'\n",
    "    elif bmi < 35:\n",
    "        return '中度肥胖'\n",
    "    else:\n",
    "        return '重度肥胖'\n",
    "\n",
    "for value in Datas:\n",
    "    print(f'姓名:{value[\"Name\"]}, 身高:{value[\"Height\"]}, 體重:{value[\"Weight\"]}\\nBMI值:{value[\"BMI\"]:.2f},體重屬於{judge(value[\"BMI\"])}')\n",
    "    print('=================================')"
   ]
  },
  {
   "cell_type": "code",
   "execution_count": 41,
   "metadata": {},
   "outputs": [
    {
     "name": "stdout",
     "output_type": "stream",
     "text": [
      "姓名:徐xx, 身高:178, 體重:78, BMI:24.62, 過重\n",
      "姓名:王xx, 身高:168, 體重:75, BMI:26.57, 過重\n",
      "姓名:張xx, 身高:183, 體重:78, BMI:23.29, 正常範圍\n"
     ]
    }
   ],
   "source": [
    "source:list[dict] = [\n",
    "    {'name':'徐xx','height':178,'weight':78},\n",
    "    {'name':'王xx','height':168,'weight':75},\n",
    "    {'name':'張xx','height':183,'weight':78},\n",
    "]\n",
    "def calculatorbmi(source:dict):\n",
    "    height:float = float(source['height'])\n",
    "    weight:float = float(source['weight'])\n",
    "    bmi:float = weight / (height / 100) ** 2\n",
    "    source['BMI'] = bmi\n",
    "\n",
    "def judge(bmi):\n",
    "    if bmi < 18.5:\n",
    "        return '體重過輕'\n",
    "    elif bmi < 24:\n",
    "        return '正常範圍'\n",
    "    elif bmi < 27:\n",
    "        return '過重'\n",
    "    elif bmi < 30:\n",
    "        return '輕度肥胖'\n",
    "    elif bmi < 35:\n",
    "        return '中度肥胖'\n",
    "    else:\n",
    "        return '重度肥胖'\n",
    "\n",
    "for source in source:\n",
    "    calculatorbmi(source)\n",
    "    print(f'姓名:{source[\"name\"]}, 身高:{source[\"height\"]}, 體重:{source[\"weight\"]}, BMI:{source[\"BMI\"]:.2f}, {judge(source[\"BMI\"])}')"
   ]
  },
  {
   "cell_type": "code",
   "execution_count": 40,
   "metadata": {},
   "outputs": [
    {
     "name": "stdout",
     "output_type": "stream",
     "text": [
      "姓名: 徐xx, BMI: 24.6, 過重\n",
      "姓名: 王xx, BMI: 26.6, 過重\n",
      "姓名: 張xx, BMI: 23.3, 正常範圍\n"
     ]
    }
   ],
   "source": [
    "#宗源學友\n",
    "def getItems():\n",
    "    items:list[dict] = [\n",
    "        {'name':'徐xx','height':178,'weight':78},\n",
    "        {'name':'王xx','height':168,'weight':75},\n",
    "        {'name':'張xx','height':183,'weight':78},\n",
    "    ]\n",
    "\n",
    "    return items\n",
    "\n",
    "############################\n",
    "\n",
    "def judgmentForBMI(bmi):\n",
    "    if bmi < 18.5:\n",
    "        return '體重過輕'\n",
    "    elif bmi < 24:\n",
    "        return '正常範圍'\n",
    "    elif bmi < 27:\n",
    "        return '過重'\n",
    "    elif bmi < 30:\n",
    "        return '輕度肥胖'\n",
    "    elif bmi < 35:\n",
    "        return '中度肥胖'\n",
    "    else:\n",
    "        return '重度肥胖'\n",
    "\n",
    "############################\n",
    "\n",
    "def calcForBMI(item:dict):\n",
    "    height:float = float(item['height'])\n",
    "    weight:float = float(item['weight'])\n",
    "    bmi:float = weight / (height / 100) ** 2\n",
    "    item['bmi'] = bmi\n",
    "\n",
    "############################\n",
    "\n",
    "def main():\n",
    "    items:list[dict] = getItems()\n",
    "\n",
    "    for item in items:\n",
    "        calcForBMI(item)\n",
    "        print(f'姓名: {item[\"name\"]}, BMI: {item[\"bmi\"]:.1f}, {judgmentForBMI(item[\"bmi\"])}')\n",
    "\n",
    "main()"
   ]
  },
  {
   "cell_type": "code",
   "execution_count": 1,
   "metadata": {},
   "outputs": [
    {
     "name": "stdout",
     "output_type": "stream",
     "text": [
      "姓名:徐xx, 身高:178, 體重:78, BMI:24.62, 過重\n",
      "=================================================\n",
      "姓名:王xx, 身高:168, 體重:45, BMI:15.94, 體重過輕\n",
      "=================================================\n",
      "姓名:張xx, 身高:183, 體重:78, BMI:23.29, 正常範圍\n",
      "=================================================\n"
     ]
    }
   ],
   "source": [
    "#依教學版本建立\n",
    "source:list[dict] = [\n",
    "    {'name':'徐xx','height':178,'weight':78},\n",
    "    {'name':'王xx','height':168,'weight':45},\n",
    "    {'name':'張xx','height':183,'weight':78},\n",
    "]\n",
    "\n",
    "for data in source:\n",
    "    bmi:float = data['weight'] / (data['height'] / 100) ** 2\n",
    "    if bmi < 18.5:\n",
    "        msg = '體重過輕'\n",
    "    elif bmi < 24:\n",
    "        msg = '正常範圍'\n",
    "    elif bmi < 27:\n",
    "        msg = '過重'\n",
    "    elif bmi < 30:\n",
    "        msg = '輕度肥胖'\n",
    "    elif bmi < 35:\n",
    "        msg = '中度肥胖'\n",
    "    else:\n",
    "        msg = '重度肥胖'\n",
    "    print(f'姓名:{data[\"name\"]}, 身高:{data[\"height\"]}, 體重:{data[\"weight\"]}, BMI:{bmi:.2f}, {msg}')\n",
    "    print(\"=================================================\")"
   ]
  },
  {
   "cell_type": "code",
   "execution_count": 6,
   "metadata": {},
   "outputs": [
    {
     "name": "stdout",
     "output_type": "stream",
     "text": [
      "姓名:徐xx, 身高:178, 體重:78, BMI:24.62, 過重\n",
      "=================================================\n",
      "姓名:王xx, 身高:168, 體重:45, BMI:15.94, 體重過輕\n",
      "=================================================\n",
      "姓名:張xx, 身高:183, 體重:78, BMI:23.29, 正常範圍\n",
      "=================================================\n"
     ]
    }
   ],
   "source": [
    "#額外發現最後Print另外的方式\n",
    "source:list[dict] = [\n",
    "    {'name':'徐xx','height':178,'weight':78},\n",
    "    {'name':'王xx','height':168,'weight':45},\n",
    "    {'name':'張xx','height':183,'weight':78},\n",
    "]\n",
    "\n",
    "for data in source:\n",
    "    bmi:float = data['weight'] / (data['height'] / 100) ** 2\n",
    "    if bmi < 18.5:\n",
    "        msg = '體重過輕'\n",
    "    elif bmi < 24:\n",
    "        msg = '正常範圍'\n",
    "    elif bmi < 27:\n",
    "        msg = '過重'\n",
    "    elif bmi < 30:\n",
    "        msg = '輕度肥胖'\n",
    "    elif bmi < 35:\n",
    "        msg = '中度肥胖'\n",
    "    else:\n",
    "        msg = '重度肥胖'\n",
    "    print(f'姓名:{data[\"name\"]}, 身高:{data[\"height\"]}, 體重:{data[\"weight\"]}, BMI:{bmi:.2f},',msg) # msg的部分\n",
    "    print(\"=================================================\")"
   ]
  }
 ],
 "metadata": {
  "kernelspec": {
   "display_name": "Python 3",
   "language": "python",
   "name": "python3"
  },
  "language_info": {
   "codemirror_mode": {
    "name": "ipython",
    "version": 3
   },
   "file_extension": ".py",
   "mimetype": "text/x-python",
   "name": "python",
   "nbconvert_exporter": "python",
   "pygments_lexer": "ipython3",
   "version": "3.10.13"
  }
 },
 "nbformat": 4,
 "nbformat_minor": 2
}
