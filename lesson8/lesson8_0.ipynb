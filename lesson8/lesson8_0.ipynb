{
 "cells": [
  {
   "cell_type": "code",
   "execution_count": 2,
   "metadata": {},
   "outputs": [
    {
     "name": "stdout",
     "output_type": "stream",
     "text": [
      "格式有問題請重新輸入\n",
      "格式有問題請重新輸入\n",
      "您的BMI是: 26.0\n",
      "您的體重: 過重\n"
     ]
    }
   ],
   "source": [
    "#老師的答案版本\n",
    "def inputFloat(prompt:str,min:float,max:float)->float:\n",
    "    while(True):\n",
    "        try:\n",
    "            value:float = float(input(prompt))\n",
    "            if value >= min and value <= max:\n",
    "                return value\n",
    "            else:\n",
    "                value = print(\"輸入的範圍有問題請重新輸入\")                \n",
    "        except:\n",
    "           print(\"格式有問題請重新輸入\")\n",
    "           continue\n",
    "            \n",
    "        \n",
    "        \n",
    "\n",
    "    \n",
    "height = inputFloat(\"請輸入身高:\",min=0,max=300)\n",
    "\n",
    "weight = inputFloat(\"請輸入體重:\",min=0,max=300)\n",
    "\n",
    "bmi = weight / (height / 100) ** 2\n",
    "\n",
    "print(f'您的BMI是: {bmi:.1f}')\n",
    "\n",
    "if bmi < 18.5:\n",
    "    msg = '體重過輕'\n",
    "elif bmi < 24:\n",
    "    msg = '正常範圍'\n",
    "elif bmi < 27:\n",
    "    msg = '過重'\n",
    "elif bmi < 30:\n",
    "    msg = '輕度肥胖'\n",
    "elif bmi < 35:\n",
    "    msg = '中度肥胖'\n",
    "else:\n",
    "    msg = '重度肥胖'\n",
    "\n",
    "print(f'您的體重: {msg}')"
   ]
  },
  {
   "cell_type": "code",
   "execution_count": 3,
   "metadata": {},
   "outputs": [
    {
     "name": "stdout",
     "output_type": "stream",
     "text": [
      "格式有問題請重新輸入\n",
      "輸入數值低於最小範圍0\n",
      "輸入數值高於最大範圍300\n",
      "輸入數值低於最小範圍0\n",
      "輸入數值高於最大範圍300\n",
      "您的身高:170.0 公分, 您的體重:69.0 公斤\n",
      "您的BMI是: 23.88\n",
      "您的體重: 正常範圍\n"
     ]
    }
   ],
   "source": [
    "def inputFloat(prompt:str,min:float,max:float)->float:\n",
    "    while(True):\n",
    "        try:\n",
    "            value:float = float(input(prompt))\n",
    "            if value >= min and value <= max:\n",
    "                return value\n",
    "            elif value < min:\n",
    "                value = print(f'輸入數值低於最小範圍{min}')\n",
    "            else:\n",
    "                value = print(f'輸入數值高於最大範圍{max}')\n",
    "        except:\n",
    "           print('格式有問題請重新輸入')\n",
    "           continue\n",
    "        \n",
    "height = inputFloat(\"請輸入身高:\",min=0,max=300)\n",
    "weight = inputFloat(\"請輸入體重:\",min=0,max=300)\n",
    "bmi = weight / (height / 100) ** 2\n",
    "print(f'您的身高:{height} 公分, 您的體重:{weight} 公斤\\n您的BMI是: {bmi:.2f}')\n",
    "\n",
    "if bmi < 18.5:\n",
    "    msg = '體重過輕'\n",
    "elif bmi < 24:\n",
    "    msg = '正常範圍'\n",
    "elif bmi < 27:\n",
    "    msg = '過重'\n",
    "elif bmi < 30:\n",
    "    msg = '輕度肥胖'\n",
    "elif bmi < 35:\n",
    "    msg = '中度肥胖'\n",
    "else:\n",
    "    msg = '重度肥胖'\n",
    "\n",
    "print(f'您的體重: {msg}')"
   ]
  }
 ],
 "metadata": {
  "kernelspec": {
   "display_name": "Python 3",
   "language": "python",
   "name": "python3"
  },
  "language_info": {
   "codemirror_mode": {
    "name": "ipython",
    "version": 3
   },
   "file_extension": ".py",
   "mimetype": "text/x-python",
   "name": "python",
   "nbconvert_exporter": "python",
   "pygments_lexer": "ipython3",
   "version": "3.10.13"
  }
 },
 "nbformat": 4,
 "nbformat_minor": 2
}
