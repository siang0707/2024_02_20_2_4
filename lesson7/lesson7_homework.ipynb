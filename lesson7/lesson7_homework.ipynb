{
 "cells": [
  {
   "cell_type": "code",
   "execution_count": null,
   "metadata": {},
   "outputs": [],
   "source": [
    "#自訂function:\n",
    "#檢查格式是否錯誤\n",
    "#檢查範圍是否有超出\n",
    "#如何有錯誤或超出範圍,請顯示錯誤訊息,並要求重新輸入\n",
    "\n",
    "def inputFloat(prompt:str,min:float,max:float)->float:\n",
    "       xxxxxxxxxx\n",
    "       xxxxxxxxxxx\n",
    "       xxxxxxxxxxxx\n",
    "       return xxxx\n",
    "\n",
    "    \n",
    "height = inputFloat()\n",
    "\n",
    "weight = inputFloat()\n",
    "\n",
    "bmi = weight / (height / 100) ** 2\n",
    "\n",
    "print(f'您的BMI是: {bmi:.1f}')\n",
    "\n",
    "if bmi < 18.5:\n",
    "    msg = '體重過輕'\n",
    "elif bmi < 24:\n",
    "    msg = '正常範圍'\n",
    "elif bmi < 27:\n",
    "    msg = '過重'\n",
    "elif bmi < 30:\n",
    "    msg = '輕度肥胖'\n",
    "elif bmi < 35:\n",
    "    msg = '中度肥胖'\n",
    "else:\n",
    "    msg = '重度肥胖'\n",
    "\n",
    "print(f'您的體重: {msg}')"
   ]
  }
 ],
 "metadata": {
  "language_info": {
   "name": "python"
  }
 },
 "nbformat": 4,
 "nbformat_minor": 2
}
