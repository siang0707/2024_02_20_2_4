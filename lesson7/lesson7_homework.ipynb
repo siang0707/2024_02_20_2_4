{
 "cells": [
  {
   "cell_type": "code",
   "execution_count": 42,
   "metadata": {},
   "outputs": [
    {
     "name": "stdout",
     "output_type": "stream",
     "text": [
      "輸入錯誤格式:a\n",
      "輸入數值低於0\n",
      "輸入數值超過300\n",
      "輸入數值低於0\n",
      "輸入數值超過300\n",
      "您的身高:170.0 公分, 您的體重:69.0 公斤\n",
      "您的BMI是: 23.88\n",
      "您的體重: 正常範圍\n"
     ]
    }
   ],
   "source": [
    "#自訂function:\n",
    "#檢查格式是否錯誤\n",
    "#檢查範圍是否有超出\n",
    "#如何有錯誤或超出範圍,請顯示錯誤訊息,並要求重新輸入\n",
    "\n",
    "def inputFloat(prompt:str, min:float=None, max:float=None) -> float:\n",
    "    resultStr = input(f'{prompt} ({min}-{max})')\n",
    "    try:\n",
    "        result = float(resultStr)        \n",
    "    except:\n",
    "        print(f'輸入錯誤格式:{resultStr}')\n",
    "        return inputFloat(prompt,min,max)\n",
    "    if min != None and result < min:\n",
    "        print(f'輸入數值低於{min}')\n",
    "        return inputFloat(prompt,min,max)\n",
    "    if max != None and result > max:\n",
    "        print(f'輸入數值超過{max}')\n",
    "        return inputFloat(prompt,min,max)\n",
    "    return float(result)\n",
    "\n",
    "def main():\n",
    "    height = inputFloat(\"請輸入身高(公分):\",min=0 , max=300)\n",
    "    weight = inputFloat(\"請輸入體重(公斤):\",min=0 , max=300)\n",
    "    bmi = weight / (height / 100) ** 2\n",
    "    print(f'您的身高:{height} 公分, 您的體重:{weight} 公斤\\n您的BMI是: {bmi:.2f}')\n",
    "\n",
    "    if bmi < 18.5:\n",
    "        msg = '體重過輕'\n",
    "    elif bmi < 24:\n",
    "        msg = '正常範圍'\n",
    "    elif bmi < 27:\n",
    "        msg = '過重'\n",
    "    elif bmi < 30:\n",
    "        msg = '輕度肥胖'\n",
    "    elif bmi < 35:\n",
    "        msg = '中度肥胖'\n",
    "    else:\n",
    "        msg = '重度肥胖'\n",
    "\n",
    "    print(f'您的體重: {msg}')\n",
    "    \n",
    "if __name__ == \"__main__\":\n",
    "    main()"
   ]
  },
  {
   "cell_type": "code",
   "execution_count": 37,
   "metadata": {},
   "outputs": [
    {
     "name": "stdout",
     "output_type": "stream",
     "text": [
      "格式錯誤: a\n",
      "格式錯誤, 輸入值比 0 低\n",
      "格式錯誤, 輸入值比 300 高\n",
      "您的BMI是: 23.9\n",
      "您的體重: 正常範圍\n"
     ]
    }
   ],
   "source": [
    "#宗源學友的程式碼\n",
    "def inputFloat(prompt:str, min:float = None, max:float = None) -> float:\n",
    "    if(min != None and max != None):\n",
    "        msg = f'({min} ~ {max})'\n",
    "    elif min != None:\n",
    "        msg = f', 不低於 {min}'\n",
    "    elif max != None:\n",
    "        msg = f', 不超過 {max}'\n",
    "    else:\n",
    "        msg = ''\n",
    "\n",
    "    resultStr = input(f'{prompt} {msg}')\n",
    "\n",
    "    try:\n",
    "        result = float(resultStr)\n",
    "    except:\n",
    "        print(f'格式錯誤: {resultStr}')\n",
    "        return inputFloat(prompt, min, max)\n",
    "    \n",
    "    if min != None and result < min:\n",
    "        print(f'格式錯誤, 輸入值比 {min} 低')\n",
    "        return inputFloat(prompt, min, max)\n",
    "        \n",
    "    if max != None and result > max:\n",
    "        print(f'格式錯誤, 輸入值比 {max} 高')\n",
    "        return inputFloat(prompt, min, max)  \n",
    "\n",
    "    return float(result)\n",
    "    \n",
    "def main():\n",
    "\n",
    "    height:float = inputFloat('請輸入身高(公分)', min=0, max=300)\n",
    "\n",
    "    weight:float = inputFloat('請輸入體重(公斤)', min=0, max=300)\n",
    "\n",
    "    bmi = weight / (height / 100) ** 2\n",
    "\n",
    "    print(f'您的BMI是: {bmi:.1f}')\n",
    "\n",
    "    if bmi < 18.5:\n",
    "        msg = '體重過輕'\n",
    "    elif bmi < 24:\n",
    "        msg = '正常範圍'\n",
    "    elif bmi < 27:\n",
    "        msg = '過重'\n",
    "    elif bmi < 30:\n",
    "        msg = '輕度肥胖'\n",
    "    elif bmi < 35:\n",
    "        msg = '中度肥胖'\n",
    "    else:\n",
    "        msg = '重度肥胖'\n",
    "\n",
    "    print(f'您的體重: {msg}')\n",
    "\n",
    "if __name__==\"__main__\":\n",
    "    main()"
   ]
  }
 ],
 "metadata": {
  "kernelspec": {
   "display_name": "Python 3",
   "language": "python",
   "name": "python3"
  },
  "language_info": {
   "codemirror_mode": {
    "name": "ipython",
    "version": 3
   },
   "file_extension": ".py",
   "mimetype": "text/x-python",
   "name": "python",
   "nbconvert_exporter": "python",
   "pygments_lexer": "ipython3",
   "version": "3.10.13"
  }
 },
 "nbformat": 4,
 "nbformat_minor": 2
}
