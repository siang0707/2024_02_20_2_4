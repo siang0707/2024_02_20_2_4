{
 "cells": [
  {
   "cell_type": "code",
   "execution_count": 1,
   "metadata": {},
   "outputs": [
    {
     "name": "stdout",
     "output_type": "stream",
     "text": [
      "Hello World\n"
     ]
    }
   ],
   "source": [
    "#自訂function\n",
    "#沒有參數\n",
    "#沒有傳出值\n",
    "\n",
    "def sayHello()->None:  #定義function\n",
    "    print(\"Hello World\")\n",
    "\n",
    "sayHello() #呼叫function"
   ]
  },
  {
   "cell_type": "code",
   "execution_count": 2,
   "metadata": {},
   "outputs": [
    {
     "name": "stdout",
     "output_type": "stream",
     "text": [
      "Hello! Robert\n"
     ]
    }
   ],
   "source": [
    "#自訂function\n",
    "#一個參數\n",
    "#沒有傳出值\n",
    "\n",
    "def hello_friend(name:str)->None:\n",
    "    print(f\"Hello! {name}\")\n",
    "\n",
    "hello_friend(\"Robert\")  #呼叫function,括弧內要有參數值進去才行"
   ]
  },
  {
   "cell_type": "code",
   "execution_count": 6,
   "metadata": {},
   "outputs": [
    {
     "name": "stdout",
     "output_type": "stream",
     "text": [
      "Hello robert again!\n"
     ]
    }
   ],
   "source": [
    "#自訂function\n",
    "#一個參數\n",
    "#有傳出值字串\n",
    "\n",
    "def hello_again(name:str)->str:\n",
    "    return f'Hello {name} again!'\n",
    "\n",
    "message:str = hello_again(\"robert\")\n",
    "print(message) "
   ]
  }
 ],
 "metadata": {
  "kernelspec": {
   "display_name": "Python 3",
   "language": "python",
   "name": "python3"
  },
  "language_info": {
   "codemirror_mode": {
    "name": "ipython",
    "version": 3
   },
   "file_extension": ".py",
   "mimetype": "text/x-python",
   "name": "python",
   "nbconvert_exporter": "python",
   "pygments_lexer": "ipython3",
   "version": "3.10.13"
  }
 },
 "nbformat": 4,
 "nbformat_minor": 2
}
