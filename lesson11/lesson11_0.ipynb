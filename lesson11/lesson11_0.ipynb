{
 "cells": [
  {
   "cell_type": "code",
   "execution_count": 2,
   "metadata": {},
   "outputs": [
    {
     "name": "stdout",
     "output_type": "stream",
     "text": [
      "請輸入指定人數(1~50):[{'name': '楊火帆', 'height': 213, 'weight': 90},\n",
      " {'name': '黃柏宇', 'height': 158, 'weight': 57},\n",
      " {'name': '翁鈺婷', 'height': 158, 'weight': 62},\n",
      " {'name': '蔡嘉音', 'height': 194, 'weight': 68}]\n"
     ]
    }
   ],
   "source": [
    "#宗源學友的上次作業程式碼\n",
    "import random\n",
    "import pyinputplus as pyip\n",
    "from pprint import pprint\n",
    "\n",
    "def getNames(num:int) -> list[str]:\n",
    "    with open('names.txt', encoding='utf-8') as file:\n",
    "        rawData:str = file.read()\n",
    "        names:list[str] = rawData.split('\\n')\n",
    "        random_names:list[str] = random.choices(names, k=num)\n",
    "\n",
    "        return random_names\n",
    "\n",
    "############################\n",
    "\n",
    "def generateData(names:list[str]) -> list[dict[str:any]]:\n",
    "    items:list[dict] = []\n",
    "\n",
    "    for name in names:\n",
    "        newItem:dict[str:any] = {\n",
    "            'name': name,\n",
    "            'height': random.randint(150, 220),\n",
    "            'weight': random.randint(40, 90)\n",
    "        }\n",
    "\n",
    "        items.append(newItem)\n",
    "\n",
    "    return items\n",
    "\n",
    "############################\n",
    "\n",
    "def main():\n",
    "    num:int = pyip.inputInt('請輸入指定人數(1~50):', min=1, max=50)\n",
    "    names:list[str] = getNames(num)\n",
    "    items:list[dict[str:any]] = generateData(names)\n",
    "\n",
    "    pprint(items, sort_dicts=False)\n",
    "\n",
    "main()"
   ]
  },
  {
   "cell_type": "code",
   "execution_count": 3,
   "metadata": {},
   "outputs": [
    {
     "name": "stdout",
     "output_type": "stream",
     "text": [
      "請輸入指定人數(1~50):[{'name': '蔡偉成', 'height': 180, 'weight': 57},\n",
      " {'name': '錢欣潔', 'height': 209, 'weight': 66},\n",
      " {'name': '李彥伸', 'height': 189, 'weight': 59}]\n"
     ]
    }
   ],
   "source": [
    "#當使用另一段程式碼執行時，因在相同區域範圍，所以在此執行時，也可回call上一段的程式中的def function\n",
    "num:int = pyip.inputInt('請輸入指定人數(1~50):', min=1, max=50)\n",
    "names:list[str] = getNames(num)\n",
    "items:list[dict[str:any]] = generateData(names)\n",
    "pprint(items, sort_dicts=False)"
   ]
  },
  {
   "cell_type": "code",
   "execution_count": 6,
   "metadata": {},
   "outputs": [
    {
     "name": "stdout",
     "output_type": "stream",
     "text": [
      "請輸入指定人數(1~50):存檔完成\n"
     ]
    }
   ],
   "source": [
    "import csv\n",
    "from csv import DictWriter\n",
    "num:int = pyip.inputInt('請輸入指定人數(1~50):', min=1, max=50)\n",
    "names:list[str] = getNames(num)\n",
    "items:list[dict[str:any]] = generateData(names)\n",
    "with open('students.csv',mode='w',encoding='utf-8',newline='') as csv_file:\n",
    "    writer:DictWriter = csv.DictWriter(csv_file,['name','height','weight'])\n",
    "    writer.writeheader()\n",
    "    writer.writerows(items)\n",
    "print(\"存檔完成\")"
   ]
  }
 ],
 "metadata": {
  "kernelspec": {
   "display_name": "Python 3",
   "language": "python",
   "name": "python3"
  },
  "language_info": {
   "codemirror_mode": {
    "name": "ipython",
    "version": 3
   },
   "file_extension": ".py",
   "mimetype": "text/x-python",
   "name": "python",
   "nbconvert_exporter": "python",
   "pygments_lexer": "ipython3",
   "version": "3.10.13"
  }
 },
 "nbformat": 4,
 "nbformat_minor": 2
}
